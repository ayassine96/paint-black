{
 "cells": [
  {
   "cell_type": "code",
   "execution_count": 1,
   "id": "867a495e-f995-4725-8086-d273ceee09dd",
   "metadata": {},
   "outputs": [
    {
     "name": "stderr",
     "output_type": "stream",
     "text": [
      "Warning: You only have 18GB of free disk space left. Running out of disk space may crash the parser and corrupt the BlockSci data files.\n"
     ]
    }
   ],
   "source": [
    "import pandas as pd\n",
    "import blocksci\n",
    "import numpy as np\n",
    "import zarr\n",
    "import networkx as nx\n",
    "\n",
    "from util import SYMBOLS, DIR_BCHAIN, DIR_PARSED, SimpleChrono, darknet\n",
    "\n",
    "# DIR_PARSED=\"/mnt/hdd_data/blockchain_parsed/\"\n",
    "# cfg_file = f\"/mnt/hdd_data/blockchain_parsed/bitcoin.cfg\" # later\n",
    "chain = blocksci.Blockchain(f\"{DIR_PARSED}/bitcoin_2022.cfg\")"
   ]
  },
  {
   "cell_type": "markdown",
   "id": "26d941e8-7160-4bdc-a501-59aa986c72b3",
   "metadata": {},
   "source": [
    "# scope\n",
    "this notebook goal is to replicate some results from `paint-it-black` as a sanity check.\n",
    "the original paper analysed form block 1 to block 400.000"
   ]
  },
  {
   "cell_type": "markdown",
   "id": "bf7674a7-7dab-416a-90fe-e1bf1d969d24",
   "metadata": {},
   "source": [
    "# 1: Number of addresses per darknet\n",
    "here we want to replicate table 1 from `pait-it-black`: \n",
    "measure the number of addresses for each entity"
   ]
  },
  {
   "cell_type": "code",
   "execution_count": 2,
   "id": "455032c9-773f-48df-9848-249eeef73962",
   "metadata": {},
   "outputs": [],
   "source": [
    "df2 = pd.read_csv(f\"/local/scratch/exported/blockchain_parsed/bitcoin_darknet/uniform_black/heur_1_data/ground_truth_clust_id.csv\")"
   ]
  },
  {
   "cell_type": "code",
   "execution_count": 5,
   "id": "e05bcb36-f039-4a13-809f-2c101973a01b",
   "metadata": {},
   "outputs": [
    {
     "name": "stdout",
     "output_type": "stream",
     "text": [
      "         Unnamed: 0                             address               entity   \n",
      "0          12312549  17DEJSAMHsTtsxZA1v6yu51xVwtFJ5ECfp       AlphaBayMarket  \\\n",
      "1          12312550  16Qcn2WgFQzo4u6MdNQTmtua1SEFnKwvqz       AlphaBayMarket   \n",
      "2          12312551  1EP2hYJ7ezLJSyJRjyv7AbUrkKNxhcQL8G       AlphaBayMarket   \n",
      "3          12312552  1LRkTgfXAK1rNfvMte9DBYXd7n8FGHMFrS       AlphaBayMarket   \n",
      "4          12312553  1536BxPYvjygNSnR12ooVhri9kdSeTr9ri       AlphaBayMarket   \n",
      "...             ...                                 ...                  ...   \n",
      "1822557    28018566  13tVkEV6dDvmKBF1UpdnGybbhSNQEbekwy  SilkRoadMarketplace   \n",
      "1822558    28018567  1DRv6wYLd61vsY2wtwLjZJRCvQDne5Pc3T  SilkRoadMarketplace   \n",
      "1822559    28018568  17WYQHZR2Md4rpZBR7h4y1wrfQN4eimfTU  SilkRoadMarketplace   \n",
      "1822560    28018569  1ADAY9C7nnwxAXL493XJTZpu1wrzjdmc6m  SilkRoadMarketplace   \n",
      "1822561    28018570   1o9Nskqn62mbRw8W8PyuamJuK9cS7DpL8  SilkRoadMarketplace   \n",
      "\n",
      "           sector          id  address_id  cluster_id  \n",
      "0         Service  86299694.0   950294754   107302595  \n",
      "1         Service  82989233.0   950916974   107302595  \n",
      "2         Service  77012551.0   932825992   107302595  \n",
      "3         Service  88061376.0   950398798   107302595  \n",
      "4         Service  95110856.0   950946522   107302595  \n",
      "...           ...         ...         ...         ...  \n",
      "1822557  Old_Misc   4409830.0   862256437    79800777  \n",
      "1822558  Old_Misc   4407806.0   862254413    79800777  \n",
      "1822559  Old_Misc   4409167.0   862255774    79800777  \n",
      "1822560  Old_Misc   4408456.0   862255063    79800777  \n",
      "1822561  Old_Misc   4408642.0   862255249    79800777  \n",
      "\n",
      "[1822562 rows x 7 columns]\n"
     ]
    },
    {
     "data": {
      "text/plain": [
       "1822562"
      ]
     },
     "execution_count": 5,
     "metadata": {},
     "output_type": "execute_result"
    }
   ],
   "source": [
    "print(df2)\n",
    "df2.shape[0]"
   ]
  },
  {
   "cell_type": "code",
   "execution_count": 6,
   "id": "e05bcb36-f039-4a13-809f-2c101973a01b",
   "metadata": {},
   "outputs": [
    {
     "name": "stdout",
     "output_type": "stream",
     "text": [
      "entity\n",
      "EvolutionMarket           419915\n",
      "SilkRoadMarketplace       372553\n",
      "SilkRoad2Market           349836\n",
      "AlphaBayMarket            196827\n",
      "NucleusMarket             146281\n",
      "AbraxasMarket             119065\n",
      "PandoraOpenMarket          55357\n",
      "SheepMarketplace           53639\n",
      "BlackBankMarket            50878\n",
      "MiddleEarthMarketplace     34049\n",
      "BlueSkyMarketplace         18897\n",
      "CannabisRoadMarket          2829\n",
      "BabylonMarket               1471\n",
      "GreenRoadMarket              965\n",
      "Name: count, dtype: int64\n"
     ]
    }
   ],
   "source": [
    "entities_c = df2['entity'].value_counts()\n",
    "print(entities_c)"
   ]
  },
  {
   "cell_type": "markdown",
   "id": "d114c5f3-b0ba-4d7c-9a61-1ed54e034118",
   "metadata": {},
   "source": [
    "The number of addresses per entity is close enough to table 1 from []."
   ]
  },
  {
   "cell_type": "markdown",
   "id": "96e5aad5-2387-48d1-b89e-972e001b3bbe",
   "metadata": {},
   "source": [
    "# 2: Number of input and output transactions per darkent\n",
    "here we replicate table 2 from `paint-it-black`:\n",
    "Table showing the number of transactions received\n",
    "and transactions sent from and to each of the 14 darknets."
   ]
  },
  {
   "cell_type": "code",
   "execution_count": 7,
   "id": "d58696c4-ca4f-4482-a470-6ed5214355c7",
   "metadata": {},
   "outputs": [],
   "source": [
    "df2['output_txes'] = df2['address'].apply(lambda a: chain.address_from_string(a).output_txes_count())\n",
    "\n",
    "df2.groupby(['entity'])['output_txes'].sum()\n",
    "\n",
    "df2['input_txes'] = df2['address'].apply(lambda a: chain.address_from_string(a).input_txes_count())\n",
    "\n",
    "df2.groupby(['entity'])['input_txes'].sum()"
   ]
  },
  {
   "cell_type": "code",
   "execution_count": null,
   "id": "24c744d1-f254-43a2-919d-bc701015200d",
   "metadata": {},
   "outputs": [],
   "source": [
    "\"\"\"\n",
    "l = [(chain.address_from_string(a).input_txes_count(), chain.address_from_string(a).output_txes_count()) for a in df.address]\n",
    "\n",
    "df[\"input_txes_count\"] = [a[0] for a in l]\n",
    "df[\"output_txes_count\"] = [a[1] for a in l]\n",
    "\n",
    "df.groupby(['entity'])[\"input_txes_count\"].sum()\n",
    "\n",
    "df.groupby(['entity'])[\"output_txes_count\"].sum()\n",
    "\"\"\"\n",
    "#_this method doesnt work: may be counting transactions more than once(if two different address are in the same transaction) per entity. Table 2 caption is not clear enough._"
   ]
  },
  {
   "cell_type": "markdown",
   "id": "85024567-5e72-464c-8714-9ccbf29e35cc",
   "metadata": {},
   "source": [
    "# 3:\n",
    "table 3 from paint-it-black"
   ]
  },
  {
   "cell_type": "code",
   "execution_count": 6,
   "id": "30da5408-c007-42fe-9d60-9ab35f28efe7",
   "metadata": {},
   "outputs": [
    {
     "name": "stdout",
     "output_type": "stream",
     "text": [
      "entity\n",
      "AbraxasMarket               1\n",
      "AlphaBayMarket              2\n",
      "BabylonMarket               1\n",
      "BlackBankMarket             1\n",
      "BlueSkyMarketplace          1\n",
      "CannabisRoadMarket          1\n",
      "EvolutionMarket           121\n",
      "GreenRoadMarket             1\n",
      "MiddleEarthMarketplace      1\n",
      "NucleusMarket               1\n",
      "PandoraOpenMarket           1\n",
      "SheepMarketplace            1\n",
      "SilkRoad2Market             1\n",
      "SilkRoadMarketplace         1\n",
      "Name: cluster_id, dtype: int64\n"
     ]
    }
   ],
   "source": [
    "a = df2.groupby(['entity'])[\"cluster_id\"].nunique()\n",
    "print(a)"
   ]
  },
  {
   "cell_type": "code",
   "execution_count": 8,
   "id": "8ea7ca21-ed13-4162-b802-c6a4de179d0c",
   "metadata": {},
   "outputs": [
    {
     "name": "stdout",
     "output_type": "stream",
     "text": [
      "entity\n",
      "AbraxasMarket                                       ([101080866], [119065])\n",
      "AlphaBayMarket                     ([107302595, 115726064], [7151, 189676])\n",
      "BabylonMarket                                          ([94998167], [1471])\n",
      "BlackBankMarket                                       ([90613521], [50878])\n",
      "BlueSkyMarketplace                                    ([88316586], [18897])\n",
      "CannabisRoadMarket                                     ([92044383], [2829])\n",
      "EvolutionMarket           ([89576173, 93820427, 93821719, 93822603, 9428...\n",
      "GreenRoadMarket                                        ([112150330], [965])\n",
      "MiddleEarthMarketplace                                ([94494584], [34049])\n",
      "NucleusMarket                                        ([99422262], [146281])\n",
      "PandoraOpenMarket                                     ([86826333], [55357])\n",
      "SheepMarketplace                                      ([82285475], [53639])\n",
      "SilkRoad2Market                                      ([87290351], [349836])\n",
      "SilkRoadMarketplace                                  ([79800777], [372553])\n",
      "Name: cluster_id, dtype: object\n"
     ]
    }
   ],
   "source": [
    "a = df2.groupby(['entity'])[\"cluster_id\"].apply(lambda x: np.unique(x, return_counts=True))\n",
    "print(a)"
   ]
  },
  {
   "cell_type": "code",
   "execution_count": 2,
   "id": "e16d60ec",
   "metadata": {},
   "outputs": [
    {
     "name": "stdout",
     "output_type": "stream",
     "text": [
      "135\n"
     ]
    }
   ],
   "source": [
    "clust_is_black = zarr.load(\"uniform_black/heur_1_data/cluster_is_black_ground_truth.zarr\")\n",
    "print(clust_is_black.sum())"
   ]
  },
  {
   "cell_type": "markdown",
   "id": "33e30531-80e9-4e4e-be56-b242d4dfff80",
   "metadata": {},
   "source": [
    "# 4: tabella 4\n",
    "table 4 from paint-it-black"
   ]
  },
  {
   "cell_type": "code",
   "execution_count": 9,
   "id": "e549d940-3ad7-4f4f-9b31-7f3989ba44e0",
   "metadata": {},
   "outputs": [],
   "source": [
    "df2 = pd.read_csv(f\"/home/nvalla/paint-black/uniform_black/heur_2_data/ground_truth_clust_id.csv\")"
   ]
  },
  {
   "cell_type": "code",
   "execution_count": 10,
   "id": "ac82cf8b-5d52-4991-924d-3558a58b9712",
   "metadata": {},
   "outputs": [
    {
     "data": {
      "text/plain": [
       "1822562"
      ]
     },
     "execution_count": 10,
     "metadata": {},
     "output_type": "execute_result"
    }
   ],
   "source": [
    "df2.shape[0]"
   ]
  },
  {
   "cell_type": "code",
   "execution_count": 11,
   "id": "7a9d6549-a4b7-4323-8e76-c03c37e187fe",
   "metadata": {},
   "outputs": [
    {
     "name": "stdout",
     "output_type": "stream",
     "text": [
      "entity\n",
      "AbraxasMarket               1\n",
      "AlphaBayMarket              1\n",
      "BabylonMarket               1\n",
      "BlackBankMarket             1\n",
      "BlueSkyMarketplace          1\n",
      "CannabisRoadMarket          1\n",
      "EvolutionMarket           119\n",
      "GreenRoadMarket             1\n",
      "MiddleEarthMarketplace      1\n",
      "NucleusMarket               1\n",
      "PandoraOpenMarket           1\n",
      "SheepMarketplace            1\n",
      "SilkRoad2Market             1\n",
      "SilkRoadMarketplace         1\n",
      "Name: cluster_id, dtype: int64\n"
     ]
    }
   ],
   "source": [
    "b = df2.groupby(['entity'])[\"cluster_id\"].nunique()\n",
    "print(b)"
   ]
  },
  {
   "cell_type": "code",
   "execution_count": 18,
   "id": "7eb902d6-95c2-4ed1-9799-0a54d62628b3",
   "metadata": {},
   "outputs": [
    {
     "name": "stdout",
     "output_type": "stream",
     "text": [
      "entity\n",
      "AbraxasMarket                                               ([5], [119065])\n",
      "AlphaBayMarket                                              ([5], [196827])\n",
      "BabylonMarket                                                 ([5], [1471])\n",
      "BlackBankMarket                                              ([5], [50878])\n",
      "BlueSkyMarketplace                                           ([5], [18897])\n",
      "CannabisRoadMarket                                            ([5], [2829])\n",
      "EvolutionMarket           ([5, 88463297, 88463462, 88464545, 88860818, 8...\n",
      "GreenRoadMarket                                                ([5], [965])\n",
      "MiddleEarthMarketplace                                       ([5], [34049])\n",
      "NucleusMarket                                               ([5], [146281])\n",
      "PandoraOpenMarket                                            ([5], [55357])\n",
      "SheepMarketplace                                             ([5], [53639])\n",
      "SilkRoad2Market                                             ([5], [349836])\n",
      "SilkRoadMarketplace                                         ([5], [372553])\n",
      "Name: cluster_id, dtype: object\n"
     ]
    }
   ],
   "source": [
    "b = df2.groupby(['entity'])[\"cluster_id\"].apply(lambda x: np.unique(x, return_counts=True))\n",
    "print(b)"
   ]
  },
  {
   "cell_type": "markdown",
   "id": "e8931565-5d72-4ec7-b3fb-aeaa76971c1f",
   "metadata": {},
   "source": [
    "b relates each entity to two list: first list the cluster id, second list the appearances for each cluster id.\n",
    "All entities belong to the same user but one."
   ]
  },
  {
   "cell_type": "markdown",
   "id": "a2c971bc-4eed-47b3-b7d5-42743bce984f",
   "metadata": {},
   "source": [
    "# number of clusters \n",
    "number of clusters black from the ground truth"
   ]
  },
  {
   "cell_type": "code",
   "execution_count": 2,
   "id": "0b71d1a6-e768-4083-bec6-a0668197a181",
   "metadata": {},
   "outputs": [
    {
     "name": "stdout",
     "output_type": "stream",
     "text": [
      "119\n"
     ]
    }
   ],
   "source": [
    "clust_is_black = zarr.load(\"uniform_black/heur_2_data/cluster_is_black_ground_truth.zarr\")\n",
    "print(clust_is_black.sum())"
   ]
  },
  {
   "cell_type": "code",
   "execution_count": 3,
   "id": "f2a050f3-4204-4022-a77a-a77f39a95b17",
   "metadata": {},
   "outputs": [],
   "source": [
    "clust_is_black_when = zarr.load(\"uniform_black/heur_2_data/cluster_is_black_final_day.zarr\")"
   ]
  },
  {
   "cell_type": "code",
   "execution_count": 2,
   "id": "c0d11c26-f8da-4845-92be-b183c947b377",
   "metadata": {},
   "outputs": [],
   "source": [
    "df = pd.read_csv(\"uniform_black/heur_2_data/diffusion_net_day.csv\")"
   ]
  },
  {
   "cell_type": "code",
   "execution_count": 7,
   "id": "6c06e710-74d8-4dd4-b6db-ba1161a5aa5f",
   "metadata": {},
   "outputs": [],
   "source": [
    "cm = blocksci.cluster.ClusterManager(DIR_PARSED + \"bitcoin/heur_2/\", chain)"
   ]
  },
  {
   "cell_type": "code",
   "execution_count": 24,
   "id": "ec1c7860-dc54-41e7-a8fd-ed70ce4abae7",
   "metadata": {},
   "outputs": [],
   "source": [
    "add = chain.address_from_string(\"17DEJSAMHsTtsxZA1v6yu51xVwtFJ5ECfp\")\n",
    "clu = cm.cluster_with_address(add)  # cluster index 5\n",
    "\n",
    "blocks = []\n",
    "for t in add.input_txes:\n",
    "    blocks.append(t.block_height)\n",
    "    \n",
    "b = chain.blocks[blocks[0]]\n",
    "print(b.time)\n",
    "date = '2015-08-26'"
   ]
  },
  {
   "cell_type": "code",
   "execution_count": 25,
   "id": "8678cace-b5d8-4670-9bc0-c61317596d54",
   "metadata": {},
   "outputs": [],
   "source": [
    "g = nx.read_graphml(f'{DIR_PARSED}bitcoin/heur_2_networks_day/{date}.graphml.bz2')"
   ]
  },
  {
   "cell_type": "code",
   "execution_count": 27,
   "id": "a28a57c5-d6c0-48dc-92eb-903ce07740ff",
   "metadata": {},
   "outputs": [
    {
     "data": {
      "text/plain": [
       "True"
      ]
     },
     "execution_count": 27,
     "metadata": {},
     "output_type": "execute_result"
    }
   ],
   "source": [
    "'5' in g.nodes"
   ]
  },
  {
   "cell_type": "code",
   "execution_count": 30,
   "id": "0936de1d-6f21-4704-b7e3-2f2e2c11ca89",
   "metadata": {},
   "outputs": [
    {
     "data": {
      "text/html": [
       "<div>\n",
       "<style scoped>\n",
       "    .dataframe tbody tr th:only-of-type {\n",
       "        vertical-align: middle;\n",
       "    }\n",
       "\n",
       "    .dataframe tbody tr th {\n",
       "        vertical-align: top;\n",
       "    }\n",
       "\n",
       "    .dataframe thead th {\n",
       "        text-align: right;\n",
       "    }\n",
       "</style>\n",
       "<table border=\"1\" class=\"dataframe\">\n",
       "  <thead>\n",
       "    <tr style=\"text-align: right;\">\n",
       "      <th></th>\n",
       "      <th>date</th>\n",
       "      <th>no_old_black_user</th>\n",
       "      <th>no_new_black_user</th>\n",
       "      <th>no_active_black_user</th>\n",
       "      <th>no_cum_black_user</th>\n",
       "      <th>black2new_no_trx</th>\n",
       "      <th>black2new_value</th>\n",
       "      <th>black2new_no_link</th>\n",
       "      <th>black2black_no_trx</th>\n",
       "      <th>black2black_value</th>\n",
       "      <th>black2black_no_link</th>\n",
       "      <th>not_black_link</th>\n",
       "    </tr>\n",
       "  </thead>\n",
       "  <tbody>\n",
       "    <tr>\n",
       "      <th>2426</th>\n",
       "      <td>2015-08-26</td>\n",
       "      <td>0</td>\n",
       "      <td>0</td>\n",
       "      <td>0</td>\n",
       "      <td>0</td>\n",
       "      <td>0</td>\n",
       "      <td>0</td>\n",
       "      <td>0</td>\n",
       "      <td>0</td>\n",
       "      <td>0</td>\n",
       "      <td>0</td>\n",
       "      <td>170794</td>\n",
       "    </tr>\n",
       "  </tbody>\n",
       "</table>\n",
       "</div>"
      ],
      "text/plain": [
       "            date  no_old_black_user  no_new_black_user  no_active_black_user  \\\n",
       "2426  2015-08-26                  0                  0                     0   \n",
       "\n",
       "      no_cum_black_user  black2new_no_trx  black2new_value  black2new_no_link  \\\n",
       "2426                  0                 0                0                  0   \n",
       "\n",
       "      black2black_no_trx  black2black_value  black2black_no_link  \\\n",
       "2426                   0                  0                    0   \n",
       "\n",
       "      not_black_link  \n",
       "2426          170794  "
      ]
     },
     "execution_count": 30,
     "metadata": {},
     "output_type": "execute_result"
    }
   ],
   "source": [
    "df.loc[df.date == date]"
   ]
  },
  {
   "cell_type": "markdown",
   "id": "34aced6d-8ac6-43ed-ba53-0e9cb268c11a",
   "metadata": {},
   "source": [
    "# simulate ub_diffusion_net on one day network"
   ]
  },
  {
   "cell_type": "code",
   "execution_count": null,
   "id": "8be7fe19-0113-482f-b058-b3c5cef3f7e4",
   "metadata": {},
   "outputs": [],
   "source": [
    "g = nx.read_graphml(f'{DIR_PARSED}bitcoin/heur_2_networks_day/{date}.graphml.bz2')"
   ]
  },
  {
   "cell_type": "code",
   "execution_count": 54,
   "id": "a33e6ceb-8572-4e46-a5c2-753806d69b90",
   "metadata": {},
   "outputs": [],
   "source": [
    "clust_is_black_ground = zarr.load(f\"uniform_black/heur_2_data/cluster_is_black_ground_truth.zarr\")\n",
    "clust_is_black_ground_set = set([str(i) for i in range(len(clust_is_black_ground)) if clust_is_black_ground[i]])"
   ]
  },
  {
   "cell_type": "code",
   "execution_count": 75,
   "id": "61f57923-d55b-483a-9158-32f151d3481e",
   "metadata": {},
   "outputs": [
    {
     "name": "stdout",
     "output_type": "stream",
     "text": [
      "{'5'}\n"
     ]
    }
   ],
   "source": [
    "new_black_nodes = set([])\n",
    "old_black_nodes = clust_is_black_ground_set.intersection(g.nodes)\n",
    "print(old_black_nodes)\n",
    "clust_is_black_when = np.zeros(len(clust_is_black_ground), dtype=str)\n",
    "\n",
    "black2new_no_trx = 0\n",
    "black2new_value = 0\n",
    "black2new_link = 0\n",
    "black2black_no_trx = 0\n",
    "black2black_value = 0\n",
    "black2black_link = 0\n",
    "\n",
    "s = 0\n",
    "for black_node in old_black_nodes:\n",
    "    # check out-neighbours of black node\n",
    "    for e in g[black_node]:\n",
    "        # if not already black, track it\n",
    "        if e not in old_black_nodes:\n",
    "            new_black_nodes.update([e])\n",
    "            black2new_no_trx += g[black_node][e]['n_tx']\n",
    "            black2new_value += g[black_node][e]['value']\n",
    "            black2new_link += 1\n",
    "        else:\n",
    "            black2black_no_trx += g[black_node][e]['n_tx']\n",
    "            black2black_value += g[black_node][e]['value']\n",
    "            black2black_link += 1\n",
    "        if clust_is_black_when[int(e)] == '':\n",
    "            clust_is_black_when[int(e)] = date\n",
    "            s +=1\n"
   ]
  },
  {
   "cell_type": "code",
   "execution_count": 76,
   "id": "bfb7921c-d41e-45a3-ade4-7154580e9afd",
   "metadata": {},
   "outputs": [
    {
     "name": "stdout",
     "output_type": "stream",
     "text": [
      "26028\n"
     ]
    },
    {
     "data": {
      "text/plain": [
       "26028"
      ]
     },
     "execution_count": 76,
     "metadata": {},
     "output_type": "execute_result"
    }
   ],
   "source": [
    "print(s)\n",
    "np.count_nonzero(clust_is_black_when)"
   ]
  }
 ],
 "metadata": {
  "kernelspec": {
   "display_name": "Python 3.8.16 ('gt')",
   "language": "python",
   "name": "python3"
  },
  "language_info": {
   "codemirror_mode": {
    "name": "ipython",
    "version": 3
   },
   "file_extension": ".py",
   "mimetype": "text/x-python",
   "name": "python",
   "nbconvert_exporter": "python",
   "pygments_lexer": "ipython3",
   "version": "3.8.16"
  },
  "vscode": {
   "interpreter": {
    "hash": "ff193886ef0ca0aae837daaedd922866340d2133351d8e463c6640a8ef46cfde"
   }
  }
 },
 "nbformat": 4,
 "nbformat_minor": 5
}
