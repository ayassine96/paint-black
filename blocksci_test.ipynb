{
 "cells": [
  {
   "cell_type": "code",
   "execution_count": 3,
   "id": "single-efficiency",
   "metadata": {},
   "outputs": [],
   "source": [
    "#!/usr/bin/env python3\n",
    "\"\"\"\n",
    "input:\n",
    "    - `{options.black_data_folder}/cluster_is_black_ground_truth.zarr` ground truth clusters from `ub_ground_truth.py`\n",
    "    - `{DIR_PARSED}/{options.currency}/heur_{options.heuristic}_data/` clustering data\n",
    "    - `{DIR_PARSED}/{options.currency}.cfg` blockchain data\n",
    "outputs:\n",
    "    * zarr file: `cluster_is_black_when_block.zarr` index is cluster id, value is int block when the cluster became black which can also represent time.\n",
    "\"\"\"\n",
    "# here in this script we replicate the diffusion and from ground-truth we see how users turn black block by block\n",
    "\n",
    "import blocksci\n",
    "\n",
    "import sys, os, os.path, socket\n",
    "import numpy as np\n",
    "import networkx as nx\n",
    "import zarr\n",
    "import time\n",
    "from tqdm import tqdm\n",
    "import pandas as pd\n",
    "from csv import DictWriter, DictReader\n",
    "import pickle as pkl\n",
    "from datetime import datetime, timedelta\n",
    "from itertools import compress\n",
    "from scipy.sparse import random\n",
    "\n",
    "from util import SYMBOLS, DIR_BCHAIN, DIR_PARSED, SimpleChrono"
   ]
  },
  {
   "cell_type": "markdown",
   "id": "284a54fc-3c4c-433d-ad7f-057121534b45",
   "metadata": {
    "tags": []
   },
   "source": [
    "# Sparse matrix example:"
   ]
  },
  {
   "cell_type": "code",
   "execution_count": 15,
   "id": "028525d5",
   "metadata": {},
   "outputs": [
    {
     "name": "stdout",
     "output_type": "stream",
     "text": [
      "[[ 0.          0.          0.16911084]\n",
      " [ 0.         33.          0.        ]\n",
      " [ 0.19806286 10.          0.22479665]]\n",
      "{(2, 0): 0.19806286475962398, (2, 1): 10.0, (0, 2): 0.16911083656253545, (2, 2): 0.22479664553084766, (1, 1): 33.0}\n"
     ]
    }
   ],
   "source": [
    "np.random.seed(10)\n",
    "matrix = random(591692716, 591692716, format='dok', density=0.4)\n",
    "matrix[1, 1] = 33\n",
    "matrix[(2, 1)] = 10\n",
    "print(matrix.toarray())\n",
    "print(dict(matrix))"
   ]
  },
  {
   "cell_type": "markdown",
   "id": "1ab704e6-167e-4f74-94cd-b62c0cfaa9cf",
   "metadata": {},
   "source": [
    "# Gray Scale Model"
   ]
  },
  {
   "cell_type": "markdown",
   "id": "01ea2827-8866-4d80-a5b4-8f9ae6b27d9c",
   "metadata": {},
   "source": [
    "### Important Variables:\n",
    "\n",
    "In this task we will be implementing the SIR model with the following system parameters:\n",
    "\n",
    "*   $a_{i}(b)$: total amount of assets hold by user i by the end of block b.\n",
    "*   $d_{i}(b)$: total amount of black assets hold by node i by the end of block b.\n",
    "*   $x_{i}(b)$: = $\\frac{d_{i}(b)}{a_{i}(b)} $ black assets fraction by the end of block b.\n",
    "*   $c_{i}(b)$: amount of clean asset owned by node i by the end of block b\n",
    "*   $m_{i}(b)$: the amount mined by user i by the end of block b\n",
    "*   $W(b)$: = {$w_{ij}$}$_{i,j=1,...,N}$ is the adjacency matrix of the transaction network at block b. wij is equal to the amount of bitcoin moved from user i to user j at block b.\n",
    "*   $N = Nusers = |Nusers|$ total number of users in the network.\n",
    "\n",
    "Below is a summary of the dynamics of the SIR model:"
   ]
  }
 ],
 "metadata": {
  "kernelspec": {
   "display_name": "p38",
   "language": "python",
   "name": "p38"
  },
  "language_info": {
   "codemirror_mode": {
    "name": "ipython",
    "version": 3
   },
   "file_extension": ".py",
   "mimetype": "text/x-python",
   "name": "python",
   "nbconvert_exporter": "python",
   "pygments_lexer": "ipython3",
   "version": "3.8.13"
  }
 },
 "nbformat": 4,
 "nbformat_minor": 5
}
