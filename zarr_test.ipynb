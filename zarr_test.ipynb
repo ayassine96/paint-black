{
 "cells": [
  {
   "cell_type": "code",
   "execution_count": 1,
   "id": "single-efficiency",
   "metadata": {},
   "outputs": [
    {
     "name": "stderr",
     "output_type": "stream",
     "text": [
      "Warning: You only have 18GB of free disk space left. Running out of disk space may crash the parser and corrupt the BlockSci data files.\n"
     ]
    }
   ],
   "source": [
    "import blocksci\n",
    "\n",
    "import sys, os, os.path, socket\n",
    "import numpy as np\n",
    "import zarr\n",
    "import time\n",
    "import pandas as pd"
   ]
  },
  {
   "cell_type": "markdown",
   "id": "284a54fc-3c4c-433d-ad7f-057121534b45",
   "metadata": {
    "tags": []
   },
   "source": [
    "# Counting number of True and False values in cluster_is_black_ground_truth "
   ]
  },
  {
   "cell_type": "code",
   "execution_count": 3,
   "id": "0ddf0326-92d7-43d9-b35a-863220f12366",
   "metadata": {},
   "outputs": [
    {
     "name": "stdout",
     "output_type": "stream",
     "text": [
      "591692716\n",
      "591692581\n",
      "135\n",
      "[False False False ... False False False]\n",
      "[ 79800777  82285475  86826333  87290351  88316586  89576173  90613521\n",
      "  92044383  93820427  93821719  93822603  94285328  94377857  94494584\n",
      "  94507944  94616297  94620783  94624325  94668900  94797389  94887197\n",
      "  94890855  94892403  94894707  94897322  94898493  94898632  94900520\n",
      "  94903701  94904451  94905527  94907956  94910188  94912551  94913697\n",
      "  94913957  94914365  94915941  94918924  94918931  94921217  94922115\n",
      "  94922151  94922197  94922679  94926589  94927243  94928208  94934381\n",
      "  94934648  94937864  94939326  94941929  94943306  94943818  94944952\n",
      "  94944968  94946270  94946799  94947040  94947412  94947783  94948795\n",
      "  94949293  94949444  94950027  94950285  94950484  94951587  94952593\n",
      "  94954100  94959563  94960057  94961888  94962603  94963307  94966001\n",
      "  94966614  94967639  94968329  94969379  94969678  94969686  94971061\n",
      "  94971748  94972606  94972700  94974446  94974455  94974547  94974967\n",
      "  94975333  94977365  94977422  94977574  94978733  94978757  94978840\n",
      "  94979476  94979978  94981133  94981757  94981858  94982138  94982403\n",
      "  94982761  94982968  94983071  94984257  94984615  94985115  94985299\n",
      "  94985594  94985822  94986385  94987067  94987784  94998167  95268784\n",
      "  95275069  95276912  95277585  96015866  97655034  97655136  99055654\n",
      "  99061401  99061408  99064866  99066985  99422262 101080866 107302595\n",
      " 112150330 115726064]\n"
     ]
    }
   ],
   "source": [
    "array_zarr = zarr.load('uniform_black/heur_1_data/cluster_is_black_ground_truth.zarr') #load zarr file into array\n",
    "#df = pd.DataFrame (array_zarr) ## convert your array into a dataframe\n",
    "#filepath = 'zarr_to_excel.csv'\n",
    "#df.to_csv(filepath, index=False)\n",
    "countTrue = np.where(array_zarr==True)\n",
    "countFalse = np.where(array_zarr==False)\n",
    "element_count_False = countFalse[0].size\n",
    "element_count_True = countTrue[0].size\n",
    "print(len(array_zarr))\n",
    "print(element_count_False)\n",
    "print(element_count_True)\n",
    "print(array_zarr)\n",
    "for i in countTrue:\n",
    "    print(i)"
   ]
  },
  {
   "cell_type": "markdown",
   "id": "284a54fc-3c4c-433d-ad7f-057121534b45",
   "metadata": {
    "tags": []
   },
   "source": [
    "# Counting number of True and False values in cluster_is_black_ground_truth "
   ]
  },
  {
   "cell_type": "code",
   "execution_count": 6,
   "id": "0ddf0326-92d7-43d9-b35a-863220f12366",
   "metadata": {},
   "outputs": [
    {
     "ename": "KeyboardInterrupt",
     "evalue": "",
     "output_type": "error",
     "traceback": [
      "\u001b[0;31m---------------------------------------------------------------------------\u001b[0m",
      "\u001b[0;31mKeyboardInterrupt\u001b[0m                         Traceback (most recent call last)",
      "\u001b[1;32m/home/user/yassine/paint-it-black/scripts/paint-black/zarr_test.ipynb Cell 5\u001b[0m in \u001b[0;36m<cell line: 4>\u001b[0;34m()\u001b[0m\n\u001b[1;32m      <a href='vscode-notebook-cell://ssh-remote%2Bconsensus-2.ifi.uzh.ch/home/user/yassine/paint-it-black/scripts/paint-black/zarr_test.ipynb#W4sdnNjb2RlLXJlbW90ZQ%3D%3D?line=1'>2</a>\u001b[0m df \u001b[39m=\u001b[39m pd\u001b[39m.\u001b[39mDataFrame (array_zarr) \u001b[39m## convert your array into a dataframe\u001b[39;00m\n\u001b[1;32m      <a href='vscode-notebook-cell://ssh-remote%2Bconsensus-2.ifi.uzh.ch/home/user/yassine/paint-it-black/scripts/paint-black/zarr_test.ipynb#W4sdnNjb2RlLXJlbW90ZQ%3D%3D?line=2'>3</a>\u001b[0m filepath \u001b[39m=\u001b[39m \u001b[39m'\u001b[39m\u001b[39mzarr_to_excel.csv\u001b[39m\u001b[39m'\u001b[39m\n\u001b[0;32m----> <a href='vscode-notebook-cell://ssh-remote%2Bconsensus-2.ifi.uzh.ch/home/user/yassine/paint-it-black/scripts/paint-black/zarr_test.ipynb#W4sdnNjb2RlLXJlbW90ZQ%3D%3D?line=3'>4</a>\u001b[0m df\u001b[39m.\u001b[39;49mto_csv(filepath, index\u001b[39m=\u001b[39;49m\u001b[39mFalse\u001b[39;49;00m)\n",
      "File \u001b[0;32m~/miniconda3/envs/p38/lib/python3.8/site-packages/pandas/core/generic.py:3551\u001b[0m, in \u001b[0;36mNDFrame.to_csv\u001b[0;34m(self, path_or_buf, sep, na_rep, float_format, columns, header, index, index_label, mode, encoding, compression, quoting, quotechar, line_terminator, chunksize, date_format, doublequote, escapechar, decimal, errors, storage_options)\u001b[0m\n\u001b[1;32m   3540\u001b[0m df \u001b[39m=\u001b[39m \u001b[39mself\u001b[39m \u001b[39mif\u001b[39;00m \u001b[39misinstance\u001b[39m(\u001b[39mself\u001b[39m, ABCDataFrame) \u001b[39melse\u001b[39;00m \u001b[39mself\u001b[39m\u001b[39m.\u001b[39mto_frame()\n\u001b[1;32m   3542\u001b[0m formatter \u001b[39m=\u001b[39m DataFrameFormatter(\n\u001b[1;32m   3543\u001b[0m     frame\u001b[39m=\u001b[39mdf,\n\u001b[1;32m   3544\u001b[0m     header\u001b[39m=\u001b[39mheader,\n\u001b[0;32m   (...)\u001b[0m\n\u001b[1;32m   3548\u001b[0m     decimal\u001b[39m=\u001b[39mdecimal,\n\u001b[1;32m   3549\u001b[0m )\n\u001b[0;32m-> 3551\u001b[0m \u001b[39mreturn\u001b[39;00m DataFrameRenderer(formatter)\u001b[39m.\u001b[39;49mto_csv(\n\u001b[1;32m   3552\u001b[0m     path_or_buf,\n\u001b[1;32m   3553\u001b[0m     line_terminator\u001b[39m=\u001b[39;49mline_terminator,\n\u001b[1;32m   3554\u001b[0m     sep\u001b[39m=\u001b[39;49msep,\n\u001b[1;32m   3555\u001b[0m     encoding\u001b[39m=\u001b[39;49mencoding,\n\u001b[1;32m   3556\u001b[0m     errors\u001b[39m=\u001b[39;49merrors,\n\u001b[1;32m   3557\u001b[0m     compression\u001b[39m=\u001b[39;49mcompression,\n\u001b[1;32m   3558\u001b[0m     quoting\u001b[39m=\u001b[39;49mquoting,\n\u001b[1;32m   3559\u001b[0m     columns\u001b[39m=\u001b[39;49mcolumns,\n\u001b[1;32m   3560\u001b[0m     index_label\u001b[39m=\u001b[39;49mindex_label,\n\u001b[1;32m   3561\u001b[0m     mode\u001b[39m=\u001b[39;49mmode,\n\u001b[1;32m   3562\u001b[0m     chunksize\u001b[39m=\u001b[39;49mchunksize,\n\u001b[1;32m   3563\u001b[0m     quotechar\u001b[39m=\u001b[39;49mquotechar,\n\u001b[1;32m   3564\u001b[0m     date_format\u001b[39m=\u001b[39;49mdate_format,\n\u001b[1;32m   3565\u001b[0m     doublequote\u001b[39m=\u001b[39;49mdoublequote,\n\u001b[1;32m   3566\u001b[0m     escapechar\u001b[39m=\u001b[39;49mescapechar,\n\u001b[1;32m   3567\u001b[0m     storage_options\u001b[39m=\u001b[39;49mstorage_options,\n\u001b[1;32m   3568\u001b[0m )\n",
      "File \u001b[0;32m~/miniconda3/envs/p38/lib/python3.8/site-packages/pandas/io/formats/format.py:1180\u001b[0m, in \u001b[0;36mDataFrameRenderer.to_csv\u001b[0;34m(self, path_or_buf, encoding, sep, columns, index_label, mode, compression, quoting, quotechar, line_terminator, chunksize, date_format, doublequote, escapechar, errors, storage_options)\u001b[0m\n\u001b[1;32m   1159\u001b[0m     created_buffer \u001b[39m=\u001b[39m \u001b[39mFalse\u001b[39;00m\n\u001b[1;32m   1161\u001b[0m csv_formatter \u001b[39m=\u001b[39m CSVFormatter(\n\u001b[1;32m   1162\u001b[0m     path_or_buf\u001b[39m=\u001b[39mpath_or_buf,\n\u001b[1;32m   1163\u001b[0m     line_terminator\u001b[39m=\u001b[39mline_terminator,\n\u001b[0;32m   (...)\u001b[0m\n\u001b[1;32m   1178\u001b[0m     formatter\u001b[39m=\u001b[39m\u001b[39mself\u001b[39m\u001b[39m.\u001b[39mfmt,\n\u001b[1;32m   1179\u001b[0m )\n\u001b[0;32m-> 1180\u001b[0m csv_formatter\u001b[39m.\u001b[39;49msave()\n\u001b[1;32m   1182\u001b[0m \u001b[39mif\u001b[39;00m created_buffer:\n\u001b[1;32m   1183\u001b[0m     \u001b[39massert\u001b[39;00m \u001b[39misinstance\u001b[39m(path_or_buf, StringIO)\n",
      "File \u001b[0;32m~/miniconda3/envs/p38/lib/python3.8/site-packages/pandas/io/formats/csvs.py:261\u001b[0m, in \u001b[0;36mCSVFormatter.save\u001b[0;34m(self)\u001b[0m\n\u001b[1;32m    241\u001b[0m \u001b[39mwith\u001b[39;00m get_handle(\n\u001b[1;32m    242\u001b[0m     \u001b[39mself\u001b[39m\u001b[39m.\u001b[39mfilepath_or_buffer,\n\u001b[1;32m    243\u001b[0m     \u001b[39mself\u001b[39m\u001b[39m.\u001b[39mmode,\n\u001b[0;32m   (...)\u001b[0m\n\u001b[1;32m    249\u001b[0m \n\u001b[1;32m    250\u001b[0m     \u001b[39m# Note: self.encoding is irrelevant here\u001b[39;00m\n\u001b[1;32m    251\u001b[0m     \u001b[39mself\u001b[39m\u001b[39m.\u001b[39mwriter \u001b[39m=\u001b[39m csvlib\u001b[39m.\u001b[39mwriter(\n\u001b[1;32m    252\u001b[0m         handles\u001b[39m.\u001b[39mhandle,\n\u001b[1;32m    253\u001b[0m         lineterminator\u001b[39m=\u001b[39m\u001b[39mself\u001b[39m\u001b[39m.\u001b[39mline_terminator,\n\u001b[0;32m   (...)\u001b[0m\n\u001b[1;32m    258\u001b[0m         quotechar\u001b[39m=\u001b[39m\u001b[39mself\u001b[39m\u001b[39m.\u001b[39mquotechar,\n\u001b[1;32m    259\u001b[0m     )\n\u001b[0;32m--> 261\u001b[0m     \u001b[39mself\u001b[39;49m\u001b[39m.\u001b[39;49m_save()\n",
      "File \u001b[0;32m~/miniconda3/envs/p38/lib/python3.8/site-packages/pandas/io/formats/csvs.py:266\u001b[0m, in \u001b[0;36mCSVFormatter._save\u001b[0;34m(self)\u001b[0m\n\u001b[1;32m    264\u001b[0m \u001b[39mif\u001b[39;00m \u001b[39mself\u001b[39m\u001b[39m.\u001b[39m_need_to_save_header:\n\u001b[1;32m    265\u001b[0m     \u001b[39mself\u001b[39m\u001b[39m.\u001b[39m_save_header()\n\u001b[0;32m--> 266\u001b[0m \u001b[39mself\u001b[39;49m\u001b[39m.\u001b[39;49m_save_body()\n",
      "File \u001b[0;32m~/miniconda3/envs/p38/lib/python3.8/site-packages/pandas/io/formats/csvs.py:304\u001b[0m, in \u001b[0;36mCSVFormatter._save_body\u001b[0;34m(self)\u001b[0m\n\u001b[1;32m    302\u001b[0m \u001b[39mif\u001b[39;00m start_i \u001b[39m>\u001b[39m\u001b[39m=\u001b[39m end_i:\n\u001b[1;32m    303\u001b[0m     \u001b[39mbreak\u001b[39;00m\n\u001b[0;32m--> 304\u001b[0m \u001b[39mself\u001b[39;49m\u001b[39m.\u001b[39;49m_save_chunk(start_i, end_i)\n",
      "File \u001b[0;32m~/miniconda3/envs/p38/lib/python3.8/site-packages/pandas/io/formats/csvs.py:314\u001b[0m, in \u001b[0;36mCSVFormatter._save_chunk\u001b[0;34m(self, start_i, end_i)\u001b[0m\n\u001b[1;32m    311\u001b[0m res \u001b[39m=\u001b[39m df\u001b[39m.\u001b[39m_mgr\u001b[39m.\u001b[39mto_native_types(\u001b[39m*\u001b[39m\u001b[39m*\u001b[39m\u001b[39mself\u001b[39m\u001b[39m.\u001b[39m_number_format)\n\u001b[1;32m    312\u001b[0m data \u001b[39m=\u001b[39m [res\u001b[39m.\u001b[39miget_values(i) \u001b[39mfor\u001b[39;00m i \u001b[39min\u001b[39;00m \u001b[39mrange\u001b[39m(\u001b[39mlen\u001b[39m(res\u001b[39m.\u001b[39mitems))]\n\u001b[0;32m--> 314\u001b[0m ix \u001b[39m=\u001b[39m \u001b[39mself\u001b[39;49m\u001b[39m.\u001b[39;49mdata_index[slicer]\u001b[39m.\u001b[39;49m_format_native_types(\u001b[39m*\u001b[39;49m\u001b[39m*\u001b[39;49m\u001b[39mself\u001b[39;49m\u001b[39m.\u001b[39;49m_number_format)\n\u001b[1;32m    315\u001b[0m libwriters\u001b[39m.\u001b[39mwrite_csv_rows(\n\u001b[1;32m    316\u001b[0m     data,\n\u001b[1;32m    317\u001b[0m     ix,\n\u001b[0;32m   (...)\u001b[0m\n\u001b[1;32m    320\u001b[0m     \u001b[39mself\u001b[39m\u001b[39m.\u001b[39mwriter,\n\u001b[1;32m    321\u001b[0m )\n",
      "File \u001b[0;32m~/miniconda3/envs/p38/lib/python3.8/site-packages/pandas/core/indexes/numeric.py:354\u001b[0m, in \u001b[0;36mNumericIndex._format_native_types\u001b[0;34m(self, na_rep, float_format, decimal, quoting, **kwargs)\u001b[0m\n\u001b[1;32m    344\u001b[0m     formatter \u001b[39m=\u001b[39m FloatArrayFormatter(\n\u001b[1;32m    345\u001b[0m         \u001b[39mself\u001b[39m\u001b[39m.\u001b[39m_values,\n\u001b[1;32m    346\u001b[0m         na_rep\u001b[39m=\u001b[39mna_rep,\n\u001b[0;32m   (...)\u001b[0m\n\u001b[1;32m    350\u001b[0m         fixed_width\u001b[39m=\u001b[39m\u001b[39mFalse\u001b[39;00m,\n\u001b[1;32m    351\u001b[0m     )\n\u001b[1;32m    352\u001b[0m     \u001b[39mreturn\u001b[39;00m formatter\u001b[39m.\u001b[39mget_result_as_array()\n\u001b[0;32m--> 354\u001b[0m \u001b[39mreturn\u001b[39;00m \u001b[39msuper\u001b[39;49m()\u001b[39m.\u001b[39;49m_format_native_types(\n\u001b[1;32m    355\u001b[0m     na_rep\u001b[39m=\u001b[39;49mna_rep,\n\u001b[1;32m    356\u001b[0m     float_format\u001b[39m=\u001b[39;49mfloat_format,\n\u001b[1;32m    357\u001b[0m     decimal\u001b[39m=\u001b[39;49mdecimal,\n\u001b[1;32m    358\u001b[0m     quoting\u001b[39m=\u001b[39;49mquoting,\n\u001b[1;32m    359\u001b[0m     \u001b[39m*\u001b[39;49m\u001b[39m*\u001b[39;49mkwargs,\n\u001b[1;32m    360\u001b[0m )\n",
      "File \u001b[0;32m~/miniconda3/envs/p38/lib/python3.8/site-packages/pandas/core/indexes/base.py:1449\u001b[0m, in \u001b[0;36mIndex._format_native_types\u001b[0;34m(self, na_rep, quoting, **kwargs)\u001b[0m\n\u001b[1;32m   1447\u001b[0m mask \u001b[39m=\u001b[39m isna(\u001b[39mself\u001b[39m)\n\u001b[1;32m   1448\u001b[0m \u001b[39mif\u001b[39;00m \u001b[39mnot\u001b[39;00m \u001b[39mself\u001b[39m\u001b[39m.\u001b[39mis_object() \u001b[39mand\u001b[39;00m \u001b[39mnot\u001b[39;00m quoting:\n\u001b[0;32m-> 1449\u001b[0m     values \u001b[39m=\u001b[39m np\u001b[39m.\u001b[39;49masarray(\u001b[39mself\u001b[39;49m)\u001b[39m.\u001b[39;49mastype(\u001b[39mstr\u001b[39;49m)\n\u001b[1;32m   1450\u001b[0m \u001b[39melse\u001b[39;00m:\n\u001b[1;32m   1451\u001b[0m     values \u001b[39m=\u001b[39m np\u001b[39m.\u001b[39marray(\u001b[39mself\u001b[39m, dtype\u001b[39m=\u001b[39m\u001b[39mobject\u001b[39m, copy\u001b[39m=\u001b[39m\u001b[39mTrue\u001b[39;00m)\n",
      "\u001b[0;31mKeyboardInterrupt\u001b[0m: "
     ]
    }
   ],
   "source": [
    "array_zarr = zarr.load('uniform_black/heur_1_data/cluster_is_black_when_block.zarr') #load zarr file into array\n",
    "df = pd.DataFrame (array_zarr) ## convert your array into a dataframe\n",
    "filepath = 'zarr_to_excel.csv'\n",
    "df.to_csv(filepath, index=False)\n",
    "# countTrue = np.where(array_zarr==True)\n",
    "# countFalse = np.where(array_zarr==False)\n",
    "# element_count_False = countFalse[0].size\n",
    "# element_count_True = countTrue[0].size\n",
    "# print(len(array_zarr))\n",
    "# print(element_count_False)\n",
    "# print(element_count_True)\n",
    "# print(array_zarr)"
   ]
  },
  {
   "cell_type": "markdown",
   "id": "1ab704e6-167e-4f74-94cd-b62c0cfaa9cf",
   "metadata": {},
   "source": [
    "# Gray Scale Model"
   ]
  },
  {
   "cell_type": "markdown",
   "id": "01ea2827-8866-4d80-a5b4-8f9ae6b27d9c",
   "metadata": {},
   "source": [
    "### Important Variables:\n",
    "\n",
    "In this task we will be implementing the SIR model with the following system parameters:\n",
    "\n",
    "*   $a_{i}(b)$: total amount of assets hold by user i by the end of block b.\n",
    "*   $d_{i}(b)$: total amount of black assets hold by node i by the end of block b.\n",
    "*   $x_{i}(b)$: = $\\frac{d_{i}(b)}{a_{i}(b)} $ black assets fraction by the end of block b.\n",
    "*   $c_{i}(b)$: amount of clean asset owned by node i by the end of block b\n",
    "*   $m_{i}(b)$: the amount mined by user i by the end of block b\n",
    "*   $W(b)$: = {$w_{ij}$}$_{i,j=1,...,N}$ is the adjacency matrix of the transaction network at block b. wij is equal to the amount of bitcoin moved from user i to user j at block b.\n",
    "*   $N = Nusers = |Nusers|$ total number of users in the network.\n",
    "\n",
    "Below is a summary of the dynamics of the SIR model:"
   ]
  }
 ],
 "metadata": {
  "kernelspec": {
   "display_name": "p38",
   "language": "python",
   "name": "p38"
  },
  "language_info": {
   "codemirror_mode": {
    "name": "ipython",
    "version": 3
   },
   "file_extension": ".py",
   "mimetype": "text/x-python",
   "name": "python",
   "nbconvert_exporter": "python",
   "pygments_lexer": "ipython3",
   "version": "3.8.13"
  }
 },
 "nbformat": 4,
 "nbformat_minor": 5
}
