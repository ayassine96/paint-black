{
 "cells": [
  {
   "cell_type": "code",
   "execution_count": null,
   "id": "single-efficiency",
   "metadata": {},
   "outputs": [],
   "source": [
    "import blocksci\n",
    "\n",
    "import sys, os, os.path, socket\n",
    "import numpy as np\n",
    "import zarr\n",
    "import time\n",
    "import pandas as pd\n",
    "from collections import defaultdict\n",
    "from decimal import Decimal\n",
    "import datetime\n",
    "\n",
    "def format_e(n):\n",
    "    a = '%E' % n\n",
    "    return a.split('E')[0].rstrip('0').rstrip('.') + 'E' + a.split('E')[1]"
   ]
  },
  {
   "cell_type": "markdown",
   "id": "284a54fc-3c4c-433d-ad7f-057121534b45",
   "metadata": {
    "tags": []
   },
   "source": [
    "# Counting number of True and False values in cluster_is_black_ground_truth "
   ]
  },
  {
   "cell_type": "code",
   "execution_count": null,
   "id": "0ddf0326-92d7-43d9-b35a-863220f12366",
   "metadata": {},
   "outputs": [],
   "source": [
    "array_zarr = zarr.load('uniform_black/heur_1_data/cluster_is_black_ground_truth.zarr') #load zarr file into array\n",
    "#df = pd.DataFrame (array_zarr) ## convert your array into a dataframe\n",
    "#filepath = 'zarr_to_excel.csv'\n",
    "#df.to_csv(filepath, index=False)\n",
    "countTrue = np.where(array_zarr==True)\n",
    "countFalse = np.where(array_zarr==False)\n",
    "element_count_False = countFalse[0].size\n",
    "element_count_True = countTrue[0].size\n",
    "print(len(array_zarr))\n",
    "print(element_count_False)\n",
    "print(element_count_True)\n",
    "print(array_zarr)\n",
    "for i in countTrue:\n",
    "    print(i)"
   ]
  },
  {
   "cell_type": "markdown",
   "id": "284a54fc-3c4c-433d-ad7f-057121534b45",
   "metadata": {
    "tags": []
   },
   "source": [
    "# Importing saved results NPY vs ZARR:"
   ]
  },
  {
   "cell_type": "code",
   "execution_count": null,
   "id": "0ddf0326-92d7-43d9-b35a-863220f12366",
   "metadata": {},
   "outputs": [],
   "source": [
    "for i in range(49990,49996):\n",
    "    # import npy and place in dict\n",
    "    start_time = datetime.datetime.now()\n",
    "    P = np.load(f'/local/scratch/exported/blockchain_parsed/bitcoin_darknet/gs_group/grayscale_op_ali/heur_1_data/current_assets/current_assets_block_{str(i).zfill(6)}.npy', allow_pickle=True) #load gives an object array containing this dictionary:\n",
    "    current_assets =defaultdict(lambda: np.zeros(2))\n",
    "    current_assets.update(P.item())\n",
    "    end_time = datetime.datetime.now()\n",
    "    print(end_time - start_time)\n",
    "\n",
    "    print(f'current_assets length')\n",
    "    print(len(current_assets))\n",
    "\n",
    "    start_time = datetime.datetime.now()\n",
    "    # import zarr and place in dict\n",
    "    current_assets_zarr = zarr.load(f'/local/scratch/exported/blockchain_parsed/bitcoin_darknet/gs_group/grayscale_op_ali/heur_1_data_zarr/current_assets/current_assets_values_block_{str(i).zfill(6)}.zarr') #load gives an object array containing this dictionary:\n",
    "    current_assets_index_zarr = zarr.load(f'/local/scratch/exported/blockchain_parsed/bitcoin_darknet/gs_group/grayscale_op_ali/heur_1_data_zarr/current_assets_index/current_assets_index_block_{str(i).zfill(6)}.zarr')\n",
    "    current_assets_zarr = dict(zip(current_assets_index_zarr, current_assets_zarr))\n",
    "    end_time = datetime.datetime.now()\n",
    "    print(end_time - start_time)\n",
    "    print(f'current_assets_zarr length')\n",
    "    print(len(current_assets_zarr))\n",
    "\n",
    "    for key in current_assets.keys() & current_assets_zarr.keys():\n",
    "        value1 = current_assets[key]\n",
    "        value2 = current_assets_zarr[key]\n",
    "        if value1 != value2:\n",
    "            print(\"error\")\n",
    "    \n",
    "    # i = 0\n",
    "    # for k, v in current_assets_zarr.items():\n",
    "    #     print(f'{k}:{format_e(Decimal(v))}, ', end='')\n",
    "\n",
    "\n",
    "    # i = 0\n",
    "    # for k, v in current_assets.items():\n",
    "    #     if v != 0.0 :\n",
    "    #         print(f'{k}:{format_e(Decimal(v))}, ', end='')\n",
    "        # if i == 9:\n",
    "        #     print('\\n')\n",
    "        #     i = 0\n",
    "        # i+=1"
   ]
  },
  {
   "cell_type": "markdown",
   "id": "284a54fc-3c4c-433d-ad7f-057121534b45",
   "metadata": {
    "tags": []
   },
   "source": [
    "# Importing saved results daily :"
   ]
  },
  {
   "cell_type": "code",
   "execution_count": null,
   "id": "0ddf0326-92d7-43d9-b35a-863220f12366",
   "metadata": {},
   "outputs": [],
   "source": [
    "\n",
    "current_assets_zarr = zarr.load(f'/local/scratch/exported/blockchain_parsed/bitcoin_darknet/gs_group/grayscale_op_ali/heur_1_data_zarr_day/current_assets/current_assets_values_2010-06-12.zarr') #load gives an object array containing this dictionary:\n",
    "current_assets_index_zarr = zarr.load(f'/local/scratch/exported/blockchain_parsed/bitcoin_darknet/gs_group/grayscale_op_ali/heur_1_data_zarr_day/current_assets_index/current_assets_index_2010-06-12.zarr')\n",
    "current_assets_zarr = dict(zip(current_assets_index_zarr, current_assets_zarr))\n",
    "print(len(current_assets_zarr))\n",
    "i = 0\n",
    "for k, v in current_assets_zarr.items():\n",
    "    print(f'{k}:{format_e(v)}, ', end='')\n",
    "    # if i == 9:\n",
    "    #     print('\\n')\n",
    "    #     i = 0\n",
    "    # i+=1"
   ]
  },
  {
   "cell_type": "markdown",
   "id": "284a54fc-3c4c-433d-ad7f-057121534b45",
   "metadata": {
    "tags": []
   },
   "source": [
    "# Importing saved results per block:\n"
   ]
  },
  {
   "cell_type": "code",
   "execution_count": null,
   "id": "0ddf0326-92d7-43d9-b35a-863220f12366",
   "metadata": {},
   "outputs": [],
   "source": [
    "for i in range(49995,49996):\n",
    "    current_assets_zarr = zarr.load(f'/local/scratch/exported/blockchain_parsed/bitcoin_darknet/gs_group/grayscale_op_ali/heur_1_data_zarr/current_assets/current_assets_values_block_{str(i).zfill(6)}.zarr') #load gives an object array containing this dictionary:\n",
    "    current_assets_index_zarr = zarr.load(f'/local/scratch/exported/blockchain_parsed/bitcoin_darknet/gs_group/grayscale_op_ali/heur_1_data_zarr/current_assets_index/current_assets_index_block_{str(i).zfill(6)}.zarr')\n",
    "    print(f'current_assets before')\n",
    "    print(len(current_assets_zarr))\n",
    "    i = 0\n",
    "    for v, k in zip(current_assets_zarr, current_assets_index_zarr):\n",
    "        print(f'{k}:{format_e(Decimal(v))}, ', end='')\n",
    "        # if i == 9:\n",
    "        #     print('\\n')\n",
    "        #     i = 0\n",
    "        # i+=1"
   ]
  },
  {
   "cell_type": "markdown",
   "id": "1ab704e6-167e-4f74-94cd-b62c0cfaa9cf",
   "metadata": {},
   "source": [
    "# Gray Scale Model"
   ]
  },
  {
   "cell_type": "markdown",
   "id": "01ea2827-8866-4d80-a5b4-8f9ae6b27d9c",
   "metadata": {},
   "source": [
    "### Important Variables:\n",
    "\n",
    "In this task we will be implementing the SIR model with the following system parameters:\n",
    "\n",
    "*   $a_{i}(b)$: total amount of assets hold by user i by the end of block b.\n",
    "*   $d_{i}(b)$: total amount of black assets hold by node i by the end of block b.\n",
    "*   $x_{i}(b)$: = $\\frac{d_{i}(b)}{a_{i}(b)} $ black assets fraction by the end of block b.\n",
    "*   $c_{i}(b)$: amount of clean asset owned by node i by the end of block b\n",
    "*   $m_{i}(b)$: the amount mined by user i by the end of block b\n",
    "*   $W(b)$: = {$w_{ij}$}$_{i,j=1,...,N}$ is the adjacency matrix of the transaction network at block b. wij is equal to the amount of bitcoin moved from user i to user j at block b.\n",
    "*   $N = Nusers = |Nusers|$ total number of users in the network.\n",
    "\n",
    "Below is a summary of the dynamics of the SIR model:"
   ]
  }
 ],
 "metadata": {
  "kernelspec": {
   "display_name": "p38",
   "language": "python",
   "name": "p38"
  },
  "language_info": {
   "codemirror_mode": {
    "name": "ipython",
    "version": 3
   },
   "file_extension": ".py",
   "mimetype": "text/x-python",
   "name": "python",
   "nbconvert_exporter": "python",
   "pygments_lexer": "ipython3",
   "version": "3.8.13"
  }
 },
 "nbformat": 4,
 "nbformat_minor": 5
}
