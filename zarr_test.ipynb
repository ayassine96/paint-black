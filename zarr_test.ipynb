{
 "cells": [
  {
   "cell_type": "code",
   "execution_count": 2,
   "id": "single-efficiency",
   "metadata": {},
   "outputs": [
    {
     "name": "stderr",
     "output_type": "stream",
     "text": [
      "Warning: You only have 18GB of free disk space left. Running out of disk space may crash the parser and corrupt the BlockSci data files.\n"
     ]
    }
   ],
   "source": [
    "import blocksci\n",
    "\n",
    "import sys, os, os.path, socket\n",
    "import numpy as np\n",
    "import zarr\n",
    "import time\n",
    "import pandas as pd\n",
    "from collections import defaultdict\n",
    "from decimal import Decimal, getcontext\n",
    "import datetime\n",
    "import math\n",
    "# from conformity import attribute_conformity\n",
    "import matplotlib.pyplot as plt\n",
    "from matplotlib import pylab\n",
    "import networkx as nx\n",
    "from networkx.utils import py_random_state\n",
    "import numpy as np\n",
    "\n",
    "\n",
    "def format_e(n):\n",
    "    a = '%E' % n\n",
    "    return a.split('E')[0].rstrip('0').rstrip('.') + 'E' + a.split('E')[1]\n",
    "\n",
    "def clamp(n, minn, maxn):\n",
    "    if n < minn:\n",
    "        return minn\n",
    "    elif n > maxn:\n",
    "        return maxn\n",
    "    else:\n",
    "        return n"
   ]
  },
  {
   "cell_type": "markdown",
   "id": "284a54fc-3c4c-433d-ad7f-057121534b45",
   "metadata": {
    "tags": []
   },
   "source": [
    "# Counting number of True and False values in cluster_is_black_ground_truth "
   ]
  },
  {
   "cell_type": "code",
   "execution_count": 7,
   "id": "0ddf0326-92d7-43d9-b35a-863220f12366",
   "metadata": {},
   "outputs": [
    {
     "name": "stdout",
     "output_type": "stream",
     "text": [
      "591692716\n",
      "591692581\n",
      "135\n",
      "[False False False ... False False False]\n",
      "{94921217, 94987784, 94968329, 93820427, 94981133, 94285328, 95277585, 99064866, 94969379, 94977574, 94912551, 99055654, 94907956, 99422262, 95275069, 94984257, 94949444, 94624325, 94943306, 94943818, 94797389, 94974547, 94947412, 94950484, 94985299, 94985822, 92044383, 94668900, 94982761, 99066985, 94963307, 94620783, 94894707, 94954100, 94934648, 94981757, 94904451, 93822603, 94950027, 94952593, 94986385, 96015866, 94998167, 99061401, 99061408, 94913697, 94951587, 88316586, 94897322, 94978733, 94971061, 94905527, 94944952, 94939326, 94972606, 107302595, 94978757, 94944968, 94947040, 94961888, 94981858, 94616297, 94941929, 94910188, 89576173, 115726064, 94966001, 97655034, 94926589, 94982403, 94937864, 94918924, 90613521, 94918931, 93821719, 94978840, 94972700, 94887197, 101080866, 94900520, 94982968, 112150330, 94987067, 94898493, 94914365, 94969678, 94928208, 94977365, 94966614, 94967639, 94969686, 86826333, 97655136, 94971748, 94915941, 94975333, 94890855, 94934381, 95276912, 94892403, 94974967, 94494584, 94985594, 94377857, 94922115, 94979978, 94927243, 94950285, 94977422, 94979476, 94903701, 94985115, 94983071, 82285475, 94913957, 94922151, 94507944, 94984615, 94962603, 94949293, 95268784, 94922679, 94960057, 94948795, 94947783, 94898632, 79800777, 94959563, 94922197, 94946270, 94974446, 87290351, 94946799, 94974455, 94982138}\n",
      "[ 79800777  82285475  86826333  87290351  88316586  89576173  90613521\n",
      "  92044383  93820427  93821719  93822603  94285328  94377857  94494584\n",
      "  94507944  94616297  94620783  94624325  94668900  94797389  94887197\n",
      "  94890855  94892403  94894707  94897322  94898493  94898632  94900520\n",
      "  94903701  94904451  94905527  94907956  94910188  94912551  94913697\n",
      "  94913957  94914365  94915941  94918924  94918931  94921217  94922115\n",
      "  94922151  94922197  94922679  94926589  94927243  94928208  94934381\n",
      "  94934648  94937864  94939326  94941929  94943306  94943818  94944952\n",
      "  94944968  94946270  94946799  94947040  94947412  94947783  94948795\n",
      "  94949293  94949444  94950027  94950285  94950484  94951587  94952593\n",
      "  94954100  94959563  94960057  94961888  94962603  94963307  94966001\n",
      "  94966614  94967639  94968329  94969379  94969678  94969686  94971061\n",
      "  94971748  94972606  94972700  94974446  94974455  94974547  94974967\n",
      "  94975333  94977365  94977422  94977574  94978733  94978757  94978840\n",
      "  94979476  94979978  94981133  94981757  94981858  94982138  94982403\n",
      "  94982761  94982968  94983071  94984257  94984615  94985115  94985299\n",
      "  94985594  94985822  94986385  94987067  94987784  94998167  95268784\n",
      "  95275069  95276912  95277585  96015866  97655034  97655136  99055654\n",
      "  99061401  99061408  99064866  99066985  99422262 101080866 107302595\n",
      " 112150330 115726064]\n"
     ]
    }
   ],
   "source": [
    "array_zarr = zarr.load('uniform_black/heur_1_data/cluster_is_black_ground_truth.zarr') #load zarr file into array\n",
    "#df = pd.DataFrame (array_zarr) ## convert your array into a dataframe\n",
    "#filepath = 'zarr_to_excel.csv'\n",
    "#df.to_csv(filepath, index=False)\n",
    "countTrue = np.where(array_zarr==True)\n",
    "countFalse = np.where(array_zarr==False)\n",
    "element_count_False = countFalse[0].size\n",
    "element_count_True = countTrue[0].size\n",
    "print(len(array_zarr))\n",
    "print(element_count_False)\n",
    "print(element_count_True)\n",
    "print(array_zarr)\n",
    "black_clusters = set(countTrue[0])\n",
    "print(black_clusters)\n",
    "for i in countTrue:\n",
    "    print(i)"
   ]
  },
  {
   "cell_type": "code",
   "execution_count": null,
   "id": "201a91b8",
   "metadata": {},
   "outputs": [],
   "source": [
    "countFalse = np.where(array_zarr==False)\n",
    "element_count_False = countFalse[0].size\n",
    "element_count_True = countTrue[0].size\n",
    "print(len(array_zarr))\n",
    "print(element_count_False)\n",
    "print(element_count_True)\n",
    "print(array_zarr)\n",
    "black_clusters = set(countTrue[0])\n",
    "print(black_clusters)\n",
    "for i in countTrue:\n",
    "    print(i)"
   ]
  },
  {
   "cell_type": "markdown",
   "id": "284a54fc-3c4c-433d-ad7f-057121534b45",
   "metadata": {
    "tags": []
   },
   "source": [
    "# Reading address_cluster_map.zarr"
   ]
  },
  {
   "cell_type": "code",
   "execution_count": null,
   "id": "0ddf0326-92d7-43d9-b35a-863220f12366",
   "metadata": {},
   "outputs": [
    {
     "name": "stdout",
     "output_type": "stream",
     "text": [
      "                    0\n",
      "0           591352664\n",
      "1           591352665\n",
      "2           591352666\n",
      "3           591352667\n",
      "4           591352668\n",
      "...               ...\n",
      "4022303267  591352659\n",
      "4022303268  591352660\n",
      "4022303269  591352661\n",
      "4022303270  591352662\n",
      "4022303271  591352663\n",
      "\n",
      "[4022303272 rows x 1 columns]\n"
     ]
    }
   ],
   "source": [
    "array_zarr = zarr.load('/export/consensus-2/blockchain_parsed/bitcoin/heur_1_data/address_cluster_map.zarr') #load zarr file into array\n",
    "df = pd.DataFrame (array_zarr) ## convert your array into a dataframe\n",
    "# filepath = 'zarr_to_excel.csv'\n",
    "# df.to_csv(filepath, index=True)\n",
    "print(df)"
   ]
  },
  {
   "cell_type": "markdown",
   "id": "284a54fc-3c4c-433d-ad7f-057121534b45",
   "metadata": {
    "tags": []
   },
   "source": [
    "# Importing saved results NPY vs ZARR:"
   ]
  },
  {
   "cell_type": "code",
   "execution_count": null,
   "id": "0ddf0326-92d7-43d9-b35a-863220f12366",
   "metadata": {},
   "outputs": [],
   "source": [
    "for i in range(49990,49996):\n",
    "    # import npy and place in dict\n",
    "    start_time = datetime.datetime.now()\n",
    "    P = np.load(f'/local/scratch/exported/blockchain_parsed/bitcoin_darknet/gs_group/grayscale_op_ali/heur_1_data/current_assets/current_assets_block_{str(i).zfill(6)}.npy', allow_pickle=True) #load gives an object array containing this dictionary:\n",
    "    current_assets =defaultdict(lambda: np.zeros(2))\n",
    "    current_assets.update(P.item())\n",
    "    end_time = datetime.datetime.now()\n",
    "    print(end_time - start_time)\n",
    "\n",
    "    print(f'current_assets length')\n",
    "    print(len(current_assets))\n",
    "\n",
    "    start_time = datetime.datetime.now()\n",
    "    # import zarr and place in dict\n",
    "    current_assets_zarr = zarr.load(f'/local/scratch/exported/blockchain_parsed/bitcoin_darknet/gs_group/grayscale_op_ali/heur_1_data_zarr/current_assets/current_assets_values_block_{str(i).zfill(6)}.zarr') #load gives an object array containing this dictionary:\n",
    "    current_assets_index_zarr = zarr.load(f'/local/scratch/exported/blockchain_parsed/bitcoin_darknet/gs_group/grayscale_op_ali/heur_1_data_zarr/current_assets_index/current_assets_index_block_{str(i).zfill(6)}.zarr')\n",
    "    current_assets_zarr = dict(zip(current_assets_index_zarr, current_assets_zarr))\n",
    "    end_time = datetime.datetime.now()\n",
    "    print(end_time - start_time)\n",
    "    print(f'current_assets_zarr length')\n",
    "    print(len(current_assets_zarr))\n",
    "\n",
    "    for key in current_assets.keys() & current_assets_zarr.keys():\n",
    "        value1 = current_assets[key]\n",
    "        value2 = current_assets_zarr[key]\n",
    "        if value1 != value2:\n",
    "            print(\"error\")\n",
    "    \n",
    "    # i = 0\n",
    "    # for k, v in current_assets_zarr.items():\n",
    "    #     print(f'{k}:{format_e(Decimal(v))}, ', end='')\n",
    "\n",
    "\n",
    "    # i = 0\n",
    "    # for k, v in current_assets.items():\n",
    "    #     if v != 0.0 :\n",
    "    #         print(f'{k}:{format_e(Decimal(v))}, ', end='')\n",
    "        # if i == 9:\n",
    "        #     print('\\n')\n",
    "        #     i = 0\n",
    "        # i+=1"
   ]
  },
  {
   "cell_type": "markdown",
   "id": "284a54fc-3c4c-433d-ad7f-057121534b45",
   "metadata": {
    "tags": []
   },
   "source": [
    "# Importing saved results of dark ratio daily :"
   ]
  },
  {
   "cell_type": "code",
   "execution_count": 2,
   "id": "0ddf0326-92d7-43d9-b35a-863220f12366",
   "metadata": {},
   "outputs": [
    {
     "name": "stdout",
     "output_type": "stream",
     "text": [
      "size of dark_ratio_zarr=55521836\n",
      "number of normal_values=49452262, ratio of normal_values=0.8906813168065983\n",
      "number of undesired_values=0, ratio of undesired_values (negative or more than 1)=0.0\n",
      "number of zero_values=6069574, ratio of zero_values=0.1093186831934016\n",
      "number of nan_values=0, ratio of nan_values=0.0\n",
      "number of inf_values=0, ratio of inf_values=0.0\n"
     ]
    }
   ],
   "source": [
    "dark_ratio_zarr = zarr.load(f'/local/scratch/exported/blockchain_parsed/bitcoin_darknet/gs_group/grayscale_op_ali/final/heur_1_data_v3/daily/dark_ratio/dark_ratio_2016-03-19.zarr') #load gives an object array containing this dictionary:\n",
    "# dark_ratio_index_zarr = zarr.load(f'/local/scratch/exported/blockchain_parsed/bitcoin_darknet/gs_group/grayscale_op_ali/final/heur_1_data_v2/daily/dark_ratio_index/dark_ratio_index_2010-07-25.zarr')\n",
    "dark_ratio_zarr = dict(zip(dark_ratio_zarr[\"dark_ratio_index\"], dark_ratio_zarr[\"dark_ratio_values\"]))\n",
    "\n",
    "size = len(dark_ratio_zarr)\n",
    "print(f'size of dark_ratio_zarr={size}')\n",
    "\n",
    "undesired_values = 0\n",
    "normal_values = 0\n",
    "zero_values = 0\n",
    "nan_values= 0\n",
    "inf_values=0\n",
    "for key in dark_ratio_zarr.keys():\n",
    "\n",
    "    if dark_ratio_zarr[key] < 0 or dark_ratio_zarr[key] > 1:\n",
    "        undesired_values += 1\n",
    "\n",
    "    if math.isnan(dark_ratio_zarr[key]):\n",
    "        nan_values += 1\n",
    "    \n",
    "    if math.isinf(dark_ratio_zarr[key]):\n",
    "        inf_values += 1\n",
    "        \n",
    "    if dark_ratio_zarr[key] > 0 and dark_ratio_zarr[key] <= 1 :\n",
    "        normal_values += 1\n",
    "    \n",
    "    if dark_ratio_zarr[key] == 0 :\n",
    "        zero_values += 1\n",
    "\n",
    "print(f'number of normal_values={normal_values}, ratio of normal_values={normal_values/size}')\n",
    "print(f'number of undesired_values={undesired_values}, ratio of undesired_values (negative or more than 1)={undesired_values/size}')\n",
    "print(f'number of zero_values={zero_values}, ratio of zero_values={zero_values/size}')\n",
    "print(f'number of nan_values={nan_values}, ratio of nan_values={nan_values/size}')\n",
    "print(f'number of inf_values={inf_values}, ratio of inf_values={inf_values/size}')"
   ]
  },
  {
   "cell_type": "markdown",
   "id": "284a54fc-3c4c-433d-ad7f-057121534b45",
   "metadata": {
    "tags": []
   },
   "source": [
    "# Importing saved results of current_assets daily :"
   ]
  },
  {
   "cell_type": "code",
   "execution_count": 3,
   "id": "0ddf0326-92d7-43d9-b35a-863220f12366",
   "metadata": {},
   "outputs": [
    {
     "name": "stdout",
     "output_type": "stream",
     "text": [
      "size of current_assets_zarr=55521836\n",
      "number of normal_values=51968939, ratio of normal_values=0.9360090145433951\n",
      "number of undesired_values=1584, ratio of undesired_values (negative)=2.852931592535953e-05\n",
      "number of zero_values=3551313, ratio of zero_values=0.0639624561406795\n",
      "number of nan_values=0, ratio of nan_values=0.0\n",
      "number of inf_values=0, ratio of inf_values=0.0\n"
     ]
    }
   ],
   "source": [
    "current_assets_zarr = zarr.load(f'/local/scratch/exported/blockchain_parsed/bitcoin_darknet/gs_group/grayscale_op_ali/final/heur_1_data_v3/daily/current_assets/current_assets_2016-03-19.zarr') #load gives an object array containing this dictionary:\n",
    "# current_assets_index_zarr = zarr.load(f'/local/scratch/exported/blockchain_parsed/bitcoin_darknet/gs_group/grayscale_op_ali/final/heur_1_data_v2/daily/current_assets_index/current_assets_index_2014-07-25.zarr')\n",
    "\n",
    "# current_assets_zarr_old = zarr.load(f'/local/scratch/exported/blockchain_parsed/bitcoin_darknet/gs_group/grayscale_op_ali/heur_1_data_final/daily/dark_ratio/dark_ratio_values_2012-12-04.zarr') #load gives an object array containing this dictionary:\n",
    "# current_assets_index_zarr_old = zarr.load(f'/local/scratch/exported/blockchain_parsed/bitcoin_darknet/gs_group/grayscale_op_ali/heur_1_data_final/daily/dark_assets_index/dark_ratio_index_2012-12-04.zarr')\n",
    "\n",
    "# current_assets_zarr = zarr.load(f'/local/scratch/exported/blockchain_parsed/bitcoin_darknet/gs_group/grayscale_op_ali/heur_1_data_final_daily_weekly_new/daily/dark_ratio/dark_ratio_values_2013-05-04.zarr') #load gives an object array containing this dictionary:\n",
    "# current_assets_index_zarr = zarr.load(f'/local/scratch/exported/blockchain_parsed/bitcoin_darknet/gs_group/grayscale_op_ali/heur_1_data_final_daily_weekly_new/daily/dark_ratio_index/dark_ratio_index_2011-04-04.zarr')\n",
    "\n",
    "current_assets_zarr = dict(zip(current_assets_zarr[\"current_assets_index\"], current_assets_zarr[\"current_assets_values\"]))\n",
    "# current_assets_zarr_old = dict(zip(current_assets_index_zarr_old, current_assets_zarr_old))\n",
    "\n",
    "# if current_assets_zarr_old == current_assets_zarr:\n",
    "#     print(\"true\")\n",
    "\n",
    "size = len(current_assets_zarr)\n",
    "print(f'size of current_assets_zarr={size}')\n",
    "# print(len(current_assets_zarr_old))\n",
    "# for k, v in current_assets_zarr.items():\n",
    "#     for kk, vv in current_assets_zarr_old:\n",
    "#for key in current_assets_zarr.keys() & current_assets_zarr_old.keys():\n",
    "\n",
    "undesired_values = 0\n",
    "normal_values = 0\n",
    "zero_values = 0\n",
    "nan_values= 0\n",
    "inf_values=0\n",
    "\n",
    "for key in current_assets_zarr.keys():\n",
    "\n",
    "        if current_assets_zarr[key] < 0:\n",
    "            undesired_values += 1\n",
    "        \n",
    "        if math.isnan(current_assets_zarr[key]):\n",
    "            nan_values += 1\n",
    "    \n",
    "        if math.isinf(current_assets_zarr[key]):\n",
    "            inf_values += 1\n",
    "\n",
    "        if current_assets_zarr[key] > 0:\n",
    "            normal_values += 1\n",
    "        \n",
    "        if current_assets_zarr[key] == 0:\n",
    "            zero_values += 1\n",
    "\n",
    "print(f'number of normal_values={normal_values}, ratio of normal_values={normal_values/size}')\n",
    "print(f'number of undesired_values={undesired_values}, ratio of undesired_values (negative)={undesired_values/size}')\n",
    "print(f'number of zero_values={zero_values}, ratio of zero_values={zero_values/size}')\n",
    "print(f'number of nan_values={nan_values}, ratio of nan_values={nan_values/size}')\n",
    "print(f'number of inf_values={inf_values}, ratio of inf_values={inf_values/size}')\n",
    "# i = 0\n",
    "# count = 0\n",
    "# total = 0\n",
    "# for k, v in current_assets_zarr.items():\n",
    "    \n",
    "#     count = count + 1\n",
    "#     total = total + v\n",
    "#     # if i == 9:\n",
    "#     #     print('\\n')\n",
    "#     #     i = 0\n",
    "#     # i+=1\n",
    "# print(count)\n",
    "# print(total)\n",
    "#311280386000000.0 new on 2010-05-04\n",
    "#311280386000000.0 heur_1_data_final on 2010-05-04\n",
    "#316704954000000.0 old on 2010-05-04\n",
    "#695143585860158.0 new on 2011-05-04\n",
    "#695143585860158.0 heur_1_data_final on 2011-05-04\n",
    "#854471174476544.0 old on 2011-05-04\n",
    "#xxx new on 2012-05-04\n",
    "#1019590075699663.4 heur_1_data_final on 2012-05-04\n",
    "#1843247658153783.8 old on 2012-05-04\n",
    "\n",
    "# Notes: my code always saves dark ratio, his code saves only when nodes have made transactions\n",
    "\n",
    "# with open('result.txt', 'a') as fp:\n",
    "#     fp.write(print(current_assets_zarr))"
   ]
  },
  {
   "cell_type": "markdown",
   "id": "284a54fc-3c4c-433d-ad7f-057121534b45",
   "metadata": {
    "tags": []
   },
   "source": [
    "# Importing saved results of dark_assets daily :"
   ]
  },
  {
   "cell_type": "code",
   "execution_count": 4,
   "id": "0ddf0326-92d7-43d9-b35a-863220f12366",
   "metadata": {},
   "outputs": [
    {
     "name": "stdout",
     "output_type": "stream",
     "text": [
      "size of dark_assets_zarr=55519021\n",
      "number of normal_values=49452262, ratio of normal_values=0.890726477327473\n",
      "number of undesired_values=1151, ratio of undesired_values (negative)=2.0731633578337054e-05\n",
      "number of zero_values=6065608, ratio of zero_values=0.10925279103894861\n",
      "number of nan_values=0, ratio of nan_values=0.0\n",
      "number of inf_values=0, ratio of inf_values=0.0\n"
     ]
    }
   ],
   "source": [
    "dark_assets_zarr = zarr.load(f'/local/scratch/exported/blockchain_parsed/bitcoin_darknet/gs_group/grayscale_op_ali/final/heur_1_data_v3/daily/dark_assets/dark_assets_2016-03-19.zarr') #load gives an object array containing this dictionary:\n",
    "# dark_assets_index_zarr = zarr.load(f'/local/scratch/exported/blockchain_parsed/bitcoin_darknet/gs_group/grayscale_op_ali/final/heur_1_data_v3/daily/dark_assets_index/dark_assets_index_2014-07-25.zarr')\n",
    "\n",
    "dark_assets_zarr = dict(zip(dark_assets_zarr[\"dark_assets_index\"], dark_assets_zarr[\"dark_assets_values\"]))\n",
    "\n",
    "size = len(dark_assets_zarr)\n",
    "print(f'size of dark_assets_zarr={size}')\n",
    "\n",
    "undesired_values = 0\n",
    "normal_values = 0\n",
    "zero_values = 0\n",
    "nan_values= 0\n",
    "inf_values=0\n",
    "for key in dark_assets_zarr.keys():\n",
    "\n",
    "        if dark_assets_zarr[key] < 0 :\n",
    "            undesired_values += 1\n",
    "\n",
    "        if math.isnan(dark_assets_zarr[key]):\n",
    "            nan_values += 1\n",
    "    \n",
    "        if math.isinf(dark_assets_zarr[key]):\n",
    "            inf_values += 1\n",
    "\n",
    "        \n",
    "        if dark_assets_zarr[key] > 0:\n",
    "            normal_values += 1\n",
    "\n",
    "        if dark_assets_zarr[key] == 0:\n",
    "            zero_values += 1\n",
    "\n",
    "print(f'number of normal_values={normal_values}, ratio of normal_values={normal_values/size}')\n",
    "print(f'number of undesired_values={undesired_values}, ratio of undesired_values (negative)={undesired_values/size}')\n",
    "print(f'number of zero_values={zero_values}, ratio of zero_values={zero_values/size}')\n",
    "print(f'number of nan_values={nan_values}, ratio of nan_values={nan_values/size}')\n",
    "print(f'number of inf_values={inf_values}, ratio of inf_values={inf_values/size}')"
   ]
  },
  {
   "cell_type": "code",
   "execution_count": 21,
   "id": "5c231164",
   "metadata": {},
   "outputs": [
    {
     "name": "stdout",
     "output_type": "stream",
     "text": [
      " black ground truth node with k=79800777 and v=1.0\n",
      " black ground truth node with k=82285475 and v=1.0\n",
      " black ground truth node with k=79800777 and v=433669600229\n",
      " black ground truth node with k=82285475 and v=313902000\n"
     ]
    }
   ],
   "source": [
    "for k, v in dark_ratio_zarr.items():\n",
    "    if k in black_clusters:\n",
    "        print(f\" black ground truth node with k={k} and v={v}\") \n",
    "\n",
    "for k, v in current_assets_zarr.items():\n",
    "    if k in black_clusters:\n",
    "        print(f\" black ground truth node with k={k} and v={v}\")"
   ]
  },
  {
   "cell_type": "markdown",
   "id": "284a54fc-3c4c-433d-ad7f-057121534b45",
   "metadata": {
    "tags": []
   },
   "source": [
    "# Importing saved results per block:\n"
   ]
  },
  {
   "cell_type": "code",
   "execution_count": null,
   "id": "0ddf0326-92d7-43d9-b35a-863220f12366",
   "metadata": {},
   "outputs": [],
   "source": [
    "for i in range(49995,49996):\n",
    "    current_assets_zarr = zarr.load(f'/local/scratch/exported/blockchain_parsed/bitcoin_darknet/gs_group/grayscale_op_ali/heur_1_data_zarr/current_assets/current_assets_values_block_{str(i).zfill(6)}.zarr') #load gives an object array containing this dictionary:\n",
    "    current_assets_index_zarr = zarr.load(f'/local/scratch/exported/blockchain_parsed/bitcoin_darknet/gs_group/grayscale_op_ali/heur_1_data_zarr/current_assets_index/current_assets_index_block_{str(i).zfill(6)}.zarr')\n",
    "    print(f'current_assets before')\n",
    "    print(len(current_assets_zarr))\n",
    "    i = 0\n",
    "    for v, k in zip(current_assets_zarr, current_assets_index_zarr):\n",
    "        print(f'{k}:{format_e(Decimal(v))}, ', end='')\n",
    "        # if i == 9:\n",
    "        #     print('\\n')\n",
    "        #     i = 0\n",
    "        # i+=1"
   ]
  },
  {
   "cell_type": "markdown",
   "id": "e12645ce",
   "metadata": {},
   "source": [
    "# Random Graph Testing:"
   ]
  },
  {
   "cell_type": "code",
   "execution_count": 3,
   "id": "bcb05499",
   "metadata": {},
   "outputs": [
    {
     "name": "stdout",
     "output_type": "stream",
     "text": [
      "Drawing graph of size 21\n"
     ]
    },
    {
     "data": {
      "image/png": "[encoded data removed]",
      "text/plain": [
       "<Figure size 432x288 with 1 Axes>"
      ]
     },
     "metadata": {},
     "output_type": "display_data"
    }
   ],
   "source": [
    "def save_graph(graph,file_name):\n",
    "    #initialze Figure\n",
    "    plt.figure(num=None, figsize=(40, 40), dpi=200)\n",
    "    plt.axis('off')\n",
    "    fig = plt.figure(1)\n",
    "    pos = nx.spring_layout(graph)\n",
    "    nx.draw_networkx_nodes(graph,pos)\n",
    "    nx.draw_networkx_edges(graph,pos)\n",
    "    nx.draw_networkx_labels(graph,pos)\n",
    "\n",
    "    # cut = 1.00\n",
    "    # xmax = cut * max(xx for xx, yy in pos.values())\n",
    "    # ymax = cut * max(yy for xx, yy in pos.values())\n",
    "    # plt.xlim(0, xmax)\n",
    "    # plt.ylim(0, ymax)\n",
    "\n",
    "    plt.savefig(file_name,bbox_inches=\"tight\")\n",
    "    pylab.close()\n",
    "    del fig\n",
    "\n",
    "g = nx.DiGraph()\n",
    "\n",
    "networks_path = f\"/srv/abacus-1/bitcoin_darknet/grayscale_op_ali/heur_1_data_v3/heur_1_networks_full/week\"\n",
    "unit_graph_file = f\"{networks_path}/2010-01-16.graphml.bz2\"\n",
    "g = nx.read_graphml(unit_graph_file)\n",
    "\n",
    "#Assuming that the graph g has nodes and edges entered\n",
    "save_graph(g,\"jsonResults_old_MP/graphs/weekly_graph_2010-01-05.jpg\")\n",
    "\n",
    "#it can also be saved in .svg, .png. or .ps formats\n",
    "\n",
    "\n",
    "\n",
    "\n",
    "print(f\"Drawing graph of size {g.size()}\")\n",
    "nx.draw(g, pos=nx.spring_layout(g),with_labels=True)\n",
    "# node_to_conformity = attribute_conformity(g.to_undirected(), list(np.arange(1, 4, 0.2)), ['color'], profile_size=1)\n",
    "# print(node_to_conformity)"
   ]
  },
  {
   "cell_type": "code",
   "execution_count": 133,
   "id": "a0653043",
   "metadata": {},
   "outputs": [
    {
     "name": "stdout",
     "output_type": "stream",
     "text": [
      "0.13725490196078433\n",
      "Original graph: 18 nodes, 21 edges\n",
      "Erdos-Renyi random graph: 18 nodes, 21 edges\n"
     ]
    },
    {
     "data": {
      "image/png": "[encoded data removed]",
      "text/plain": [
       "<Figure size 432x288 with 1 Axes>"
      ]
     },
     "metadata": {},
     "output_type": "display_data"
    }
   ],
   "source": [
    "import random\n",
    "# Get the number of nodes and edge density of the existing graph\n",
    "n = g.number_of_nodes()\n",
    "# calculate the number of edges in G\n",
    "m = len(g.edges())\n",
    "\n",
    "# Calculate the probability p\n",
    "p = (2 * m) / (n * (n - 1))\n",
    "print(p)\n",
    "\n",
    "# Generate an Erdos-Renyi random graph with the same number of nodes and edge density\n",
    "# ER = nx.gnp_random_graph(n, p, directed=True)\n",
    "\n",
    "# Create a new empty directed graph\n",
    "ER = nx.DiGraph()\n",
    "\n",
    "# Copy over the nodes and their attributes from the original graph to the new graph\n",
    "for node, attrs in g.nodes(data=True):\n",
    "    ER.add_node(node, **attrs)\n",
    "\n",
    "# Randomly assign one incoming or outgoing edge to each node\n",
    "while ER.number_of_edges() < g.number_of_edges():\n",
    "\n",
    "    for node in ER.nodes():\n",
    "        if ER.number_of_edges() >= g.number_of_edges():\n",
    "            break\n",
    "\n",
    "        if random.random() < 0.5:\n",
    "            # Assign outgoing edge\n",
    "            neighbors = list(ER.nodes() - {node})\n",
    "            v = random.choice(neighbors)\n",
    "            ER.add_edge(node, v)\n",
    "        else:\n",
    "            # Assign incoming edge\n",
    "            neighbors = list(ER.nodes() - {node})\n",
    "            u = random.choice(neighbors)\n",
    "            ER.add_edge(u, node)\n",
    "\n",
    "\n",
    "\n",
    "# Output the number of nodes and edges in each graph\n",
    "print(f\"Original graph: {n} nodes, {g.number_of_edges()} edges\")\n",
    "print(f\"Erdos-Renyi random graph: {ER.number_of_nodes()} nodes, {ER.number_of_edges()} edges\")\n",
    "nx.draw(ER, pos=nx.spring_layout(ER),with_labels=True)\n"
   ]
  },
  {
   "cell_type": "markdown",
   "id": "f2fc3bd9",
   "metadata": {},
   "source": [
    "# Check if Erdos reyni binomial:"
   ]
  },
  {
   "cell_type": "code",
   "execution_count": 160,
   "id": "d5180e71",
   "metadata": {},
   "outputs": [
    {
     "name": "stdout",
     "output_type": "stream",
     "text": [
      "The degree distribution fits a binomial distribution with 95% confidence intervals.\n"
     ]
    }
   ],
   "source": [
    "import networkx as nx\n",
    "import scipy.stats as stats\n",
    "\n",
    "# Generate a random graph\n",
    "G = ER\n",
    "\n",
    "# Calculate the degree distribution\n",
    "degrees = [deg for node, deg in G.degree()]\n",
    "\n",
    "# Calculate the mean and variance of the degree distribution\n",
    "mean = sum(degrees) / len(degrees)\n",
    "variance = sum((deg - mean) ** 2 for deg in degrees) / len(degrees)\n",
    "\n",
    "# Calculate the expected binomial distribution parameters\n",
    "p = mean / len(G.nodes())\n",
    "n = len(G.nodes())\n",
    "\n",
    "# Calculate the confidence intervals for the binomial distribution\n",
    "lower, upper = stats.binom.interval(0.95, n, p)\n",
    "\n",
    "# Check if the degree distribution fits the binomial distribution\n",
    "if all(lower <= deg <= upper for deg in degrees):\n",
    "    print(\"The degree distribution fits a binomial distribution with 95% confidence intervals.\")\n",
    "else:\n",
    "    print(\"The degree distribution does not fit a binomial distribution with 95% confidence intervals.\")\n"
   ]
  },
  {
   "cell_type": "code",
   "execution_count": 180,
   "id": "f101c8fa",
   "metadata": {},
   "outputs": [],
   "source": [
    "import random\n",
    "import itertools\n",
    "\n",
    "class EdgeSwapGraph(nx.DiGraph):\n",
    "    \"\"\"An interaction graph which can produce a \"random\" graph from\n",
    "    itself by an iterative edge-swap technique that preserves the degree\n",
    "    distribution of the original graph.\n",
    "    \"\"\"\n",
    "    def randomize_by_edge_swaps(self, num_iterations):\n",
    "        total_iterations = num_iterations * self.number_of_edges()\n",
    "        \n",
    "        for i in range(total_iterations):\n",
    "            # Choose two random edges to swap\n",
    "            edges = random.sample(self.edges(), 2)\n",
    "            (u1, v1), (u2, v2) = edges\n",
    "            \n",
    "            # Check if the edges share a node\n",
    "            if u1 == u2 or u1 == v2 or v1 == u2 or v1 == v2:\n",
    "                continue\n",
    "                \n",
    "            # Check if swapping the edges would create a self-loop\n",
    "            if u1 == v2 or u2 == v1:\n",
    "                continue\n",
    "                \n",
    "            # Check if swapping the edges would create a multi-edge\n",
    "            if self.has_edge(u1, v2) or self.has_edge(u2, v1):\n",
    "                continue\n",
    "                \n",
    "            # Swap the edges\n",
    "            self.remove_edge(u1, v1)\n",
    "            self.remove_edge(u2, v2)\n",
    "            self.add_edge(u1, v2)\n",
    "            self.add_edge(u2, v1)\n",
    "\n",
    "            return self"
   ]
  },
  {
   "cell_type": "code",
   "execution_count": 183,
   "id": "d2e0da16",
   "metadata": {},
   "outputs": [
    {
     "name": "stdout",
     "output_type": "stream",
     "text": [
      "Original graph: 18 nodes, 21 edges\n",
      "Inplace swapped random graph: 18 nodes, 21 edges\n"
     ]
    },
    {
     "data": {
      "text/plain": [
       "{}"
      ]
     },
     "execution_count": 183,
     "metadata": {},
     "output_type": "execute_result"
    },
    {
     "data": {
      "image/png": "[encoded data removed]",
      "text/plain": [
       "<Figure size 432x288 with 1 Axes>"
      ]
     },
     "metadata": {},
     "output_type": "display_data"
    }
   ],
   "source": [
    "swapped_g = EdgeSwapGraph(g)\n",
    "# Randomize the graph using edge swaps\n",
    "G_random = swapped_g.randomize_by_edge_swaps(num_iterations=g.number_of_edges()*10)\n",
    "print(f\"Original graph: {g.number_of_nodes()} nodes, {g.number_of_edges()} edges\")\n",
    "print(f\"Inplace swapped random graph: {G_random.number_of_nodes()} nodes, {G_random.number_of_edges()} edges\")\n",
    "nx.draw(G_random, pos=nx.spring_layout(G_random),with_labels=True)\n"
   ]
  }
 ],
 "metadata": {
  "kernelspec": {
   "display_name": "Python 3.8.13 ('p38')",
   "language": "python",
   "name": "python3"
  },
  "language_info": {
   "codemirror_mode": {
    "name": "ipython",
    "version": 3
   },
   "file_extension": ".py",
   "mimetype": "text/x-python",
   "name": "python",
   "nbconvert_exporter": "python",
   "pygments_lexer": "ipython3",
   "version": "3.8.13"
  },
  "vscode": {
   "interpreter": {
    "hash": "e74e244f4ccea5b4a2f45c3e3fdabd73b82aec326271051b22d3feb4931efa32"
   }
  }
 },
 "nbformat": 4,
 "nbformat_minor": 5
}
