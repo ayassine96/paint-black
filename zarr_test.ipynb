{
 "cells": [
  {
   "cell_type": "code",
   "execution_count": 1,
   "id": "single-efficiency",
   "metadata": {},
   "outputs": [
    {
     "name": "stderr",
     "output_type": "stream",
     "text": [
      "Warning: You only have 18GB of free disk space left. Running out of disk space may crash the parser and corrupt the BlockSci data files.\n"
     ]
    }
   ],
   "source": [
    "import blocksci\n",
    "\n",
    "import sys, os, os.path, socket\n",
    "import numpy as np\n",
    "import zarr\n",
    "import time\n",
    "import pandas as pd\n",
    "from collections import defaultdict\n",
    "from decimal import Decimal, getcontext\n",
    "import datetime\n",
    "import math\n",
    "\n",
    "\n",
    "def format_e(n):\n",
    "    a = '%E' % n\n",
    "    return a.split('E')[0].rstrip('0').rstrip('.') + 'E' + a.split('E')[1]\n",
    "\n",
    "def clamp(n, minn, maxn):\n",
    "    if n < minn:\n",
    "        return minn\n",
    "    elif n > maxn:\n",
    "        return maxn\n",
    "    else:\n",
    "        return n"
   ]
  },
  {
   "cell_type": "markdown",
   "id": "284a54fc-3c4c-433d-ad7f-057121534b45",
   "metadata": {
    "tags": []
   },
   "source": [
    "# Counting number of True and False values in cluster_is_black_ground_truth "
   ]
  },
  {
   "cell_type": "code",
   "execution_count": 5,
   "id": "0ddf0326-92d7-43d9-b35a-863220f12366",
   "metadata": {},
   "outputs": [
    {
     "name": "stdout",
     "output_type": "stream",
     "text": [
      "591692716\n",
      "591692581\n",
      "135\n",
      "[False False False ... False False False]\n",
      "[ 79800777  82285475  86826333  87290351  88316586  89576173  90613521\n",
      "  92044383  93820427  93821719  93822603  94285328  94377857  94494584\n",
      "  94507944  94616297  94620783  94624325  94668900  94797389  94887197\n",
      "  94890855  94892403  94894707  94897322  94898493  94898632  94900520\n",
      "  94903701  94904451  94905527  94907956  94910188  94912551  94913697\n",
      "  94913957  94914365  94915941  94918924  94918931  94921217  94922115\n",
      "  94922151  94922197  94922679  94926589  94927243  94928208  94934381\n",
      "  94934648  94937864  94939326  94941929  94943306  94943818  94944952\n",
      "  94944968  94946270  94946799  94947040  94947412  94947783  94948795\n",
      "  94949293  94949444  94950027  94950285  94950484  94951587  94952593\n",
      "  94954100  94959563  94960057  94961888  94962603  94963307  94966001\n",
      "  94966614  94967639  94968329  94969379  94969678  94969686  94971061\n",
      "  94971748  94972606  94972700  94974446  94974455  94974547  94974967\n",
      "  94975333  94977365  94977422  94977574  94978733  94978757  94978840\n",
      "  94979476  94979978  94981133  94981757  94981858  94982138  94982403\n",
      "  94982761  94982968  94983071  94984257  94984615  94985115  94985299\n",
      "  94985594  94985822  94986385  94987067  94987784  94998167  95268784\n",
      "  95275069  95276912  95277585  96015866  97655034  97655136  99055654\n",
      "  99061401  99061408  99064866  99066985  99422262 101080866 107302595\n",
      " 112150330 115726064]\n"
     ]
    }
   ],
   "source": [
    "array_zarr = zarr.load('uniform_black/heur_1_data/cluster_is_black_ground_truth.zarr') #load zarr file into array\n",
    "#df = pd.DataFrame (array_zarr) ## convert your array into a dataframe\n",
    "#filepath = 'zarr_to_excel.csv'\n",
    "#df.to_csv(filepath, index=False)\n",
    "countTrue = np.where(array_zarr==True)\n",
    "countFalse = np.where(array_zarr==False)\n",
    "element_count_False = countFalse[0].size\n",
    "element_count_True = countTrue[0].size\n",
    "print(len(array_zarr))\n",
    "print(element_count_False)\n",
    "print(element_count_True)\n",
    "print(array_zarr)\n",
    "for i in countTrue:\n",
    "    print(i)"
   ]
  },
  {
   "cell_type": "markdown",
   "id": "284a54fc-3c4c-433d-ad7f-057121534b45",
   "metadata": {
    "tags": []
   },
   "source": [
    "# Importing saved results NPY vs ZARR:"
   ]
  },
  {
   "cell_type": "code",
   "execution_count": null,
   "id": "0ddf0326-92d7-43d9-b35a-863220f12366",
   "metadata": {},
   "outputs": [],
   "source": [
    "for i in range(49990,49996):\n",
    "    # import npy and place in dict\n",
    "    start_time = datetime.datetime.now()\n",
    "    P = np.load(f'/local/scratch/exported/blockchain_parsed/bitcoin_darknet/gs_group/grayscale_op_ali/heur_1_data/current_assets/current_assets_block_{str(i).zfill(6)}.npy', allow_pickle=True) #load gives an object array containing this dictionary:\n",
    "    current_assets =defaultdict(lambda: np.zeros(2))\n",
    "    current_assets.update(P.item())\n",
    "    end_time = datetime.datetime.now()\n",
    "    print(end_time - start_time)\n",
    "\n",
    "    print(f'current_assets length')\n",
    "    print(len(current_assets))\n",
    "\n",
    "    start_time = datetime.datetime.now()\n",
    "    # import zarr and place in dict\n",
    "    current_assets_zarr = zarr.load(f'/local/scratch/exported/blockchain_parsed/bitcoin_darknet/gs_group/grayscale_op_ali/heur_1_data_zarr/current_assets/current_assets_values_block_{str(i).zfill(6)}.zarr') #load gives an object array containing this dictionary:\n",
    "    current_assets_index_zarr = zarr.load(f'/local/scratch/exported/blockchain_parsed/bitcoin_darknet/gs_group/grayscale_op_ali/heur_1_data_zarr/current_assets_index/current_assets_index_block_{str(i).zfill(6)}.zarr')\n",
    "    current_assets_zarr = dict(zip(current_assets_index_zarr, current_assets_zarr))\n",
    "    end_time = datetime.datetime.now()\n",
    "    print(end_time - start_time)\n",
    "    print(f'current_assets_zarr length')\n",
    "    print(len(current_assets_zarr))\n",
    "\n",
    "    for key in current_assets.keys() & current_assets_zarr.keys():\n",
    "        value1 = current_assets[key]\n",
    "        value2 = current_assets_zarr[key]\n",
    "        if value1 != value2:\n",
    "            print(\"error\")\n",
    "    \n",
    "    # i = 0\n",
    "    # for k, v in current_assets_zarr.items():\n",
    "    #     print(f'{k}:{format_e(Decimal(v))}, ', end='')\n",
    "\n",
    "\n",
    "    # i = 0\n",
    "    # for k, v in current_assets.items():\n",
    "    #     if v != 0.0 :\n",
    "    #         print(f'{k}:{format_e(Decimal(v))}, ', end='')\n",
    "        # if i == 9:\n",
    "        #     print('\\n')\n",
    "        #     i = 0\n",
    "        # i+=1"
   ]
  },
  {
   "cell_type": "markdown",
   "id": "284a54fc-3c4c-433d-ad7f-057121534b45",
   "metadata": {
    "tags": []
   },
   "source": [
    "# Importing saved results of dark ratio daily :"
   ]
  },
  {
   "cell_type": "code",
   "execution_count": 2,
   "id": "0ddf0326-92d7-43d9-b35a-863220f12366",
   "metadata": {},
   "outputs": [
    {
     "name": "stdout",
     "output_type": "stream",
     "text": [
      "size of dark_ratio_zarr=3750886\n",
      "number of normal_values=741133, ratio of normal_values=0.19758878302353097\n",
      "number of undesired_values=0, ratio of undesired_values (negative or more than 1)=0.0\n",
      "number of zero_values=3009753, ratio of zero_values=0.802411216976469\n",
      "number of nan_values=0, ratio of nan_values=0.0\n",
      "number of inf_values=0, ratio of inf_values=0.0\n"
     ]
    }
   ],
   "source": [
    "dark_ratio_zarr = zarr.load(f'/local/scratch/exported/blockchain_parsed/bitcoin_darknet/gs_group/grayscale_op_ali/final/heur_1_data_v3/daily/dark_ratio/dark_ratio_2012-10-02.zarr') #load gives an object array containing this dictionary:\n",
    "# dark_ratio_index_zarr = zarr.load(f'/local/scratch/exported/blockchain_parsed/bitcoin_darknet/gs_group/grayscale_op_ali/final/heur_1_data_v2/daily/dark_ratio_index/dark_ratio_index_2010-07-25.zarr')\n",
    "dark_ratio_zarr = dict(zip(dark_ratio_zarr[\"dark_ratio_index\"], dark_ratio_zarr[\"dark_ratio_values\"]))\n",
    "\n",
    "size = len(dark_ratio_zarr)\n",
    "print(f'size of dark_ratio_zarr={size}')\n",
    "\n",
    "undesired_values = 0\n",
    "normal_values = 0\n",
    "zero_values = 0\n",
    "nan_values= 0\n",
    "inf_values=0\n",
    "for key in dark_ratio_zarr.keys():\n",
    "\n",
    "    if dark_ratio_zarr[key] < 0 or dark_ratio_zarr[key] > 1:\n",
    "        undesired_values += 1\n",
    "\n",
    "    if math.isnan(dark_ratio_zarr[key]):\n",
    "        nan_values += 1\n",
    "    \n",
    "    if math.isinf(dark_ratio_zarr[key]):\n",
    "        inf_values += 1\n",
    "        \n",
    "    if dark_ratio_zarr[key] > 0 and dark_ratio_zarr[key] <= 1 :\n",
    "        normal_values += 1\n",
    "    \n",
    "    if dark_ratio_zarr[key] == 0 :\n",
    "        zero_values += 1\n",
    "\n",
    "print(f'number of normal_values={normal_values}, ratio of normal_values={normal_values/size}')\n",
    "print(f'number of undesired_values={undesired_values}, ratio of undesired_values (negative or more than 1)={undesired_values/size}')\n",
    "print(f'number of zero_values={zero_values}, ratio of zero_values={zero_values/size}')\n",
    "print(f'number of nan_values={nan_values}, ratio of nan_values={nan_values/size}')\n",
    "print(f'number of inf_values={inf_values}, ratio of inf_values={inf_values/size}')"
   ]
  },
  {
   "cell_type": "markdown",
   "id": "284a54fc-3c4c-433d-ad7f-057121534b45",
   "metadata": {
    "tags": []
   },
   "source": [
    "# Importing saved results of current_assets daily :"
   ]
  },
  {
   "cell_type": "code",
   "execution_count": 3,
   "id": "0ddf0326-92d7-43d9-b35a-863220f12366",
   "metadata": {},
   "outputs": [
    {
     "name": "stdout",
     "output_type": "stream",
     "text": [
      "size of current_assets_zarr=3750886\n",
      "number of normal_values=2204209, ratio of normal_values=0.5876502245069565\n",
      "number of undesired_values=77, ratio of undesired_values (negative)=2.052848313705082e-05\n",
      "number of zero_values=1546600, ratio of zero_values=0.4123292470099065\n",
      "number of nan_values=0, ratio of nan_values=0.0\n",
      "number of inf_values=0, ratio of inf_values=0.0\n"
     ]
    }
   ],
   "source": [
    "current_assets_zarr = zarr.load(f'/local/scratch/exported/blockchain_parsed/bitcoin_darknet/gs_group/grayscale_op_ali/final/heur_1_data_v3/daily/current_assets/current_assets_2012-10-02.zarr') #load gives an object array containing this dictionary:\n",
    "# current_assets_index_zarr = zarr.load(f'/local/scratch/exported/blockchain_parsed/bitcoin_darknet/gs_group/grayscale_op_ali/final/heur_1_data_v2/daily/current_assets_index/current_assets_index_2014-07-25.zarr')\n",
    "\n",
    "# current_assets_zarr_old = zarr.load(f'/local/scratch/exported/blockchain_parsed/bitcoin_darknet/gs_group/grayscale_op_ali/heur_1_data_final/daily/dark_ratio/dark_ratio_values_2012-12-04.zarr') #load gives an object array containing this dictionary:\n",
    "# current_assets_index_zarr_old = zarr.load(f'/local/scratch/exported/blockchain_parsed/bitcoin_darknet/gs_group/grayscale_op_ali/heur_1_data_final/daily/dark_assets_index/dark_ratio_index_2012-12-04.zarr')\n",
    "\n",
    "# current_assets_zarr = zarr.load(f'/local/scratch/exported/blockchain_parsed/bitcoin_darknet/gs_group/grayscale_op_ali/heur_1_data_final_daily_weekly_new/daily/dark_ratio/dark_ratio_values_2013-05-04.zarr') #load gives an object array containing this dictionary:\n",
    "# current_assets_index_zarr = zarr.load(f'/local/scratch/exported/blockchain_parsed/bitcoin_darknet/gs_group/grayscale_op_ali/heur_1_data_final_daily_weekly_new/daily/dark_ratio_index/dark_ratio_index_2011-04-04.zarr')\n",
    "\n",
    "current_assets_zarr = dict(zip(current_assets_zarr[\"current_assets_index\"], current_assets_zarr[\"current_assets_values\"]))\n",
    "# current_assets_zarr_old = dict(zip(current_assets_index_zarr_old, current_assets_zarr_old))\n",
    "\n",
    "# if current_assets_zarr_old == current_assets_zarr:\n",
    "#     print(\"true\")\n",
    "\n",
    "size = len(current_assets_zarr)\n",
    "print(f'size of current_assets_zarr={size}')\n",
    "# print(len(current_assets_zarr_old))\n",
    "# for k, v in current_assets_zarr.items():\n",
    "#     for kk, vv in current_assets_zarr_old:\n",
    "#for key in current_assets_zarr.keys() & current_assets_zarr_old.keys():\n",
    "\n",
    "undesired_values = 0\n",
    "normal_values = 0\n",
    "zero_values = 0\n",
    "nan_values= 0\n",
    "inf_values=0\n",
    "\n",
    "for key in current_assets_zarr.keys():\n",
    "\n",
    "        if current_assets_zarr[key] < 0:\n",
    "            undesired_values += 1\n",
    "        \n",
    "        if math.isnan(current_assets_zarr[key]):\n",
    "            nan_values += 1\n",
    "    \n",
    "        if math.isinf(current_assets_zarr[key]):\n",
    "            inf_values += 1\n",
    "\n",
    "        if current_assets_zarr[key] > 0:\n",
    "            normal_values += 1\n",
    "        \n",
    "        if current_assets_zarr[key] == 0:\n",
    "            zero_values += 1\n",
    "\n",
    "print(f'number of normal_values={normal_values}, ratio of normal_values={normal_values/size}')\n",
    "print(f'number of undesired_values={undesired_values}, ratio of undesired_values (negative)={undesired_values/size}')\n",
    "print(f'number of zero_values={zero_values}, ratio of zero_values={zero_values/size}')\n",
    "print(f'number of nan_values={nan_values}, ratio of nan_values={nan_values/size}')\n",
    "print(f'number of inf_values={inf_values}, ratio of inf_values={inf_values/size}')\n",
    "# i = 0\n",
    "# count = 0\n",
    "# total = 0\n",
    "# for k, v in current_assets_zarr.items():\n",
    "    \n",
    "#     count = count + 1\n",
    "#     total = total + v\n",
    "#     # if i == 9:\n",
    "#     #     print('\\n')\n",
    "#     #     i = 0\n",
    "#     # i+=1\n",
    "# print(count)\n",
    "# print(total)\n",
    "#311280386000000.0 new on 2010-05-04\n",
    "#311280386000000.0 heur_1_data_final on 2010-05-04\n",
    "#316704954000000.0 old on 2010-05-04\n",
    "#695143585860158.0 new on 2011-05-04\n",
    "#695143585860158.0 heur_1_data_final on 2011-05-04\n",
    "#854471174476544.0 old on 2011-05-04\n",
    "#xxx new on 2012-05-04\n",
    "#1019590075699663.4 heur_1_data_final on 2012-05-04\n",
    "#1843247658153783.8 old on 2012-05-04\n",
    "\n",
    "# Notes: my code always saves dark ratio, his code saves only when nodes have made transactions"
   ]
  },
  {
   "cell_type": "markdown",
   "id": "284a54fc-3c4c-433d-ad7f-057121534b45",
   "metadata": {
    "tags": []
   },
   "source": [
    "# Importing saved results of dark_assets daily :"
   ]
  },
  {
   "cell_type": "code",
   "execution_count": 4,
   "id": "0ddf0326-92d7-43d9-b35a-863220f12366",
   "metadata": {},
   "outputs": [
    {
     "name": "stdout",
     "output_type": "stream",
     "text": [
      "size of dark_assets_zarr=3750390\n",
      "number of normal_values=741133, ratio of normal_values=0.19761491471553624\n",
      "number of undesired_values=22, ratio of undesired_values (negative)=5.866056596780601e-06\n",
      "number of zero_values=3009235, ratio of zero_values=0.8023792192278669\n",
      "number of nan_values=0, ratio of nan_values=0.0\n",
      "number of inf_values=0, ratio of inf_values=0.0\n"
     ]
    }
   ],
   "source": [
    "dark_assets_zarr = zarr.load(f'/local/scratch/exported/blockchain_parsed/bitcoin_darknet/gs_group/grayscale_op_ali/final/heur_1_data_v3/daily/dark_assets/dark_assets_2012-10-02.zarr') #load gives an object array containing this dictionary:\n",
    "# dark_assets_index_zarr = zarr.load(f'/local/scratch/exported/blockchain_parsed/bitcoin_darknet/gs_group/grayscale_op_ali/final/heur_1_data_v3/daily/dark_assets_index/dark_assets_index_2014-07-25.zarr')\n",
    "\n",
    "dark_assets_zarr = dict(zip(dark_assets_zarr[\"dark_assets_index\"], dark_assets_zarr[\"dark_assets_values\"]))\n",
    "\n",
    "size = len(dark_assets_zarr)\n",
    "print(f'size of dark_assets_zarr={size}')\n",
    "\n",
    "undesired_values = 0\n",
    "normal_values = 0\n",
    "zero_values = 0\n",
    "nan_values= 0\n",
    "inf_values=0\n",
    "for key in dark_assets_zarr.keys():\n",
    "\n",
    "        if dark_assets_zarr[key] < 0 :\n",
    "            undesired_values += 1\n",
    "\n",
    "        if math.isnan(dark_assets_zarr[key]):\n",
    "            nan_values += 1\n",
    "    \n",
    "        if math.isinf(dark_assets_zarr[key]):\n",
    "            inf_values += 1\n",
    "\n",
    "        \n",
    "        if dark_assets_zarr[key] > 0:\n",
    "            normal_values += 1\n",
    "\n",
    "        if dark_assets_zarr[key] == 0:\n",
    "            zero_values += 1\n",
    "\n",
    "print(f'number of normal_values={normal_values}, ratio of normal_values={normal_values/size}')\n",
    "print(f'number of undesired_values={undesired_values}, ratio of undesired_values (negative)={undesired_values/size}')\n",
    "print(f'number of zero_values={zero_values}, ratio of zero_values={zero_values/size}')\n",
    "print(f'number of nan_values={nan_values}, ratio of nan_values={nan_values/size}')\n",
    "print(f'number of inf_values={inf_values}, ratio of inf_values={inf_values/size}')"
   ]
  },
  {
   "cell_type": "markdown",
   "id": "284a54fc-3c4c-433d-ad7f-057121534b45",
   "metadata": {
    "tags": []
   },
   "source": [
    "# Importing saved results per block:\n"
   ]
  },
  {
   "cell_type": "code",
   "execution_count": null,
   "id": "0ddf0326-92d7-43d9-b35a-863220f12366",
   "metadata": {},
   "outputs": [],
   "source": [
    "for i in range(49995,49996):\n",
    "    current_assets_zarr = zarr.load(f'/local/scratch/exported/blockchain_parsed/bitcoin_darknet/gs_group/grayscale_op_ali/heur_1_data_zarr/current_assets/current_assets_values_block_{str(i).zfill(6)}.zarr') #load gives an object array containing this dictionary:\n",
    "    current_assets_index_zarr = zarr.load(f'/local/scratch/exported/blockchain_parsed/bitcoin_darknet/gs_group/grayscale_op_ali/heur_1_data_zarr/current_assets_index/current_assets_index_block_{str(i).zfill(6)}.zarr')\n",
    "    print(f'current_assets before')\n",
    "    print(len(current_assets_zarr))\n",
    "    i = 0\n",
    "    for v, k in zip(current_assets_zarr, current_assets_index_zarr):\n",
    "        print(f'{k}:{format_e(Decimal(v))}, ', end='')\n",
    "        # if i == 9:\n",
    "        #     print('\\n')\n",
    "        #     i = 0\n",
    "        # i+=1"
   ]
  },
  {
   "cell_type": "markdown",
   "id": "1ab704e6-167e-4f74-94cd-b62c0cfaa9cf",
   "metadata": {},
   "source": [
    "# Gray Scale Model"
   ]
  },
  {
   "cell_type": "markdown",
   "id": "01ea2827-8866-4d80-a5b4-8f9ae6b27d9c",
   "metadata": {},
   "source": [
    "### Important Variables:\n",
    "\n",
    "In this task we will be implementing the SIR model with the following system parameters:\n",
    "\n",
    "*   $a_{i}(b)$: total amount of assets hold by user i by the end of block b.\n",
    "*   $d_{i}(b)$: total amount of black assets hold by node i by the end of block b.\n",
    "*   $x_{i}(b)$: = $\\frac{d_{i}(b)}{a_{i}(b)} $ black assets fraction by the end of block b.\n",
    "*   $c_{i}(b)$: amount of clean asset owned by node i by the end of block b\n",
    "*   $m_{i}(b)$: the amount mined by user i by the end of block b\n",
    "*   $W(b)$: = {$w_{ij}$}$_{i,j=1,...,N}$ is the adjacency matrix of the transaction network at block b. wij is equal to the amount of bitcoin moved from user i to user j at block b.\n",
    "*   $N = Nusers = |Nusers|$ total number of users in the network.\n",
    "\n",
    "Below is a summary of the dynamics of the SIR model:"
   ]
  },
  {
   "cell_type": "code",
   "execution_count": 18,
   "id": "42e24704",
   "metadata": {},
   "outputs": [
    {
     "name": "stdout",
     "output_type": "stream",
     "text": [
      "51468\n",
      "0.049017576600815508658381958184691029600799083709716796875\n",
      "0.04901757660081551\n",
      "0.049017576600815508658381958184691029600799083709716796875\n"
     ]
    }
   ],
   "source": [
    "# print(float('nan')/10000000000)\n",
    "# 2.2250738585072014e-308 - 1e-100\n",
    "# print(float('-inf')/10000000000)\n",
    "# print(10000000000/float('-inf'))\n",
    "# max(0, 20000000000)\n",
    "# print(clamp(float('nan'), 0.0, 1.0))\n",
    "# print(abs(-14556456456456))\n",
    "# str(float('nan'))\n",
    "getcontext().prec = 50\n",
    "print(clamp(int(0) + int(Decimal(1050000)*Decimal(0.04901757660081550558805350746)), int(0), int(1050000)))\n",
    "\n",
    "print(Decimal(0.04901757660081550558805350746))\n",
    "\n",
    "print(Decimal(str(0.04901757660081550558805350746)))\n",
    "print(str(Decimal(0.04901757660081550558805350746)))"
   ]
  }
 ],
 "metadata": {
  "kernelspec": {
   "display_name": "Python 3.8.13 ('p38')",
   "language": "python",
   "name": "python3"
  },
  "language_info": {
   "codemirror_mode": {
    "name": "ipython",
    "version": 3
   },
   "file_extension": ".py",
   "mimetype": "text/x-python",
   "name": "python",
   "nbconvert_exporter": "python",
   "pygments_lexer": "ipython3",
   "version": "3.8.13"
  },
  "vscode": {
   "interpreter": {
    "hash": "e74e244f4ccea5b4a2f45c3e3fdabd73b82aec326271051b22d3feb4931efa32"
   }
  }
 },
 "nbformat": 4,
 "nbformat_minor": 5
}
