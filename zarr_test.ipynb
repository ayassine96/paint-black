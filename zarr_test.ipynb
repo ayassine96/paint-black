{
 "cells": [
  {
   "cell_type": "code",
   "execution_count": 1,
   "id": "single-efficiency",
   "metadata": {},
   "outputs": [
    {
     "name": "stderr",
     "output_type": "stream",
     "text": [
      "Warning: You only have 18GB of free disk space left. Running out of disk space may crash the parser and corrupt the BlockSci data files.\n"
     ]
    }
   ],
   "source": [
    "import blocksci\n",
    "\n",
    "import sys, os, os.path, socket\n",
    "import numpy as np\n",
    "import zarr\n",
    "import time\n",
    "import pandas as pd\n",
    "from collections import defaultdict\n",
    "from decimal import Decimal\n",
    "import datetime\n",
    "import math\n",
    "\n",
    "\n",
    "def format_e(n):\n",
    "    a = '%E' % n\n",
    "    return a.split('E')[0].rstrip('0').rstrip('.') + 'E' + a.split('E')[1]"
   ]
  },
  {
   "cell_type": "markdown",
   "id": "284a54fc-3c4c-433d-ad7f-057121534b45",
   "metadata": {
    "tags": []
   },
   "source": [
    "# Counting number of True and False values in cluster_is_black_ground_truth "
   ]
  },
  {
   "cell_type": "code",
   "execution_count": null,
   "id": "0ddf0326-92d7-43d9-b35a-863220f12366",
   "metadata": {},
   "outputs": [],
   "source": [
    "array_zarr = zarr.load('uniform_black/heur_1_data/cluster_is_black_ground_truth.zarr') #load zarr file into array\n",
    "#df = pd.DataFrame (array_zarr) ## convert your array into a dataframe\n",
    "#filepath = 'zarr_to_excel.csv'\n",
    "#df.to_csv(filepath, index=False)\n",
    "countTrue = np.where(array_zarr==True)\n",
    "countFalse = np.where(array_zarr==False)\n",
    "element_count_False = countFalse[0].size\n",
    "element_count_True = countTrue[0].size\n",
    "print(len(array_zarr))\n",
    "print(element_count_False)\n",
    "print(element_count_True)\n",
    "print(array_zarr)\n",
    "for i in countTrue:\n",
    "    print(i)"
   ]
  },
  {
   "cell_type": "markdown",
   "id": "284a54fc-3c4c-433d-ad7f-057121534b45",
   "metadata": {
    "tags": []
   },
   "source": [
    "# Importing saved results NPY vs ZARR:"
   ]
  },
  {
   "cell_type": "code",
   "execution_count": null,
   "id": "0ddf0326-92d7-43d9-b35a-863220f12366",
   "metadata": {},
   "outputs": [],
   "source": [
    "for i in range(49990,49996):\n",
    "    # import npy and place in dict\n",
    "    start_time = datetime.datetime.now()\n",
    "    P = np.load(f'/local/scratch/exported/blockchain_parsed/bitcoin_darknet/gs_group/grayscale_op_ali/heur_1_data/current_assets/current_assets_block_{str(i).zfill(6)}.npy', allow_pickle=True) #load gives an object array containing this dictionary:\n",
    "    current_assets =defaultdict(lambda: np.zeros(2))\n",
    "    current_assets.update(P.item())\n",
    "    end_time = datetime.datetime.now()\n",
    "    print(end_time - start_time)\n",
    "\n",
    "    print(f'current_assets length')\n",
    "    print(len(current_assets))\n",
    "\n",
    "    start_time = datetime.datetime.now()\n",
    "    # import zarr and place in dict\n",
    "    current_assets_zarr = zarr.load(f'/local/scratch/exported/blockchain_parsed/bitcoin_darknet/gs_group/grayscale_op_ali/heur_1_data_zarr/current_assets/current_assets_values_block_{str(i).zfill(6)}.zarr') #load gives an object array containing this dictionary:\n",
    "    current_assets_index_zarr = zarr.load(f'/local/scratch/exported/blockchain_parsed/bitcoin_darknet/gs_group/grayscale_op_ali/heur_1_data_zarr/current_assets_index/current_assets_index_block_{str(i).zfill(6)}.zarr')\n",
    "    current_assets_zarr = dict(zip(current_assets_index_zarr, current_assets_zarr))\n",
    "    end_time = datetime.datetime.now()\n",
    "    print(end_time - start_time)\n",
    "    print(f'current_assets_zarr length')\n",
    "    print(len(current_assets_zarr))\n",
    "\n",
    "    for key in current_assets.keys() & current_assets_zarr.keys():\n",
    "        value1 = current_assets[key]\n",
    "        value2 = current_assets_zarr[key]\n",
    "        if value1 != value2:\n",
    "            print(\"error\")\n",
    "    \n",
    "    # i = 0\n",
    "    # for k, v in current_assets_zarr.items():\n",
    "    #     print(f'{k}:{format_e(Decimal(v))}, ', end='')\n",
    "\n",
    "\n",
    "    # i = 0\n",
    "    # for k, v in current_assets.items():\n",
    "    #     if v != 0.0 :\n",
    "    #         print(f'{k}:{format_e(Decimal(v))}, ', end='')\n",
    "        # if i == 9:\n",
    "        #     print('\\n')\n",
    "        #     i = 0\n",
    "        # i+=1"
   ]
  },
  {
   "cell_type": "markdown",
   "id": "284a54fc-3c4c-433d-ad7f-057121534b45",
   "metadata": {
    "tags": []
   },
   "source": [
    "# Importing saved results of dark ratio daily :"
   ]
  },
  {
   "cell_type": "code",
   "execution_count": 2,
   "id": "0ddf0326-92d7-43d9-b35a-863220f12366",
   "metadata": {},
   "outputs": [
    {
     "name": "stdout",
     "output_type": "stream",
     "text": [
      "1978491\n",
      "0\n",
      "0\n",
      "1978491\n",
      "0.0\n",
      "0.0\n",
      "1.0\n"
     ]
    }
   ],
   "source": [
    "dark_ratio_zarr = zarr.load(f'/local/scratch/exported/blockchain_parsed/bitcoin_darknet/gs_group/grayscale_op_ali/heur_1_data_final_daily_weekly_new_v3/daily/dark_ratio/dark_ratio_values_2012-02-04.zarr') #load gives an object array containing this dictionary:\n",
    "dark_ratio_index_zarr = zarr.load(f'/local/scratch/exported/blockchain_parsed/bitcoin_darknet/gs_group/grayscale_op_ali/heur_1_data_final_daily_weekly_new_v3/daily/dark_ratio_index/dark_ratio_index_2012-02-04.zarr')\n",
    "\n",
    "dark_ratio_zarr = dict(zip(dark_ratio_index_zarr, dark_ratio_zarr))\n",
    "\n",
    "print(len(dark_ratio_zarr))\n",
    "undesired_values = 0\n",
    "normal_values = 0\n",
    "zero_values = 0\n",
    "for key in dark_ratio_zarr.keys():\n",
    "\n",
    "    if dark_ratio_zarr[key] < 0 or  math.isnan(dark_ratio_zarr[key]) or dark_ratio_zarr[key] >1:\n",
    "        undesired_values += 1\n",
    "        # print(\"error\")\n",
    "        # break\n",
    "        \n",
    "    if dark_ratio_zarr[key] > 0 and dark_ratio_zarr[key] <= 1 :\n",
    "        normal_values += 1\n",
    "    \n",
    "    if dark_ratio_zarr[key] == 0 :\n",
    "        zero_values += 1\n",
    "\n",
    "print(normal_values)\n",
    "print(undesired_values)\n",
    "print(zero_values)\n",
    "print(undesired_values/len(dark_ratio_zarr))\n",
    "print(normal_values/len(dark_ratio_zarr))\n",
    "print(zero_values/len(dark_ratio_zarr))"
   ]
  },
  {
   "cell_type": "markdown",
   "id": "284a54fc-3c4c-433d-ad7f-057121534b45",
   "metadata": {
    "tags": []
   },
   "source": [
    "# Importing saved results of current_assets daily :"
   ]
  },
  {
   "cell_type": "code",
   "execution_count": 6,
   "id": "0ddf0326-92d7-43d9-b35a-863220f12366",
   "metadata": {},
   "outputs": [
    {
     "name": "stdout",
     "output_type": "stream",
     "text": [
      "12920813\n",
      "12481351\n",
      "439462\n",
      "0.03401194646188285\n"
     ]
    }
   ],
   "source": [
    "current_assets_zarr = zarr.load(f'/local/scratch/exported/blockchain_parsed/bitcoin_darknet/gs_group/grayscale_op_ali/heur_1_data_final_daily_weekly_new_v2/daily/current_assets/current_assets_values_2014-02-04.zarr') #load gives an object array containing this dictionary:\n",
    "current_assets_index_zarr = zarr.load(f'/local/scratch/exported/blockchain_parsed/bitcoin_darknet/gs_group/grayscale_op_ali/heur_1_data_final_daily_weekly_new_v2/daily/current_assets_index/current_assets_index_2014-02-04.zarr')\n",
    "\n",
    "# current_assets_zarr_old = zarr.load(f'/local/scratch/exported/blockchain_parsed/bitcoin_darknet/gs_group/grayscale_op_ali/heur_1_data_final/daily/dark_ratio/dark_ratio_values_2012-12-04.zarr') #load gives an object array containing this dictionary:\n",
    "# current_assets_index_zarr_old = zarr.load(f'/local/scratch/exported/blockchain_parsed/bitcoin_darknet/gs_group/grayscale_op_ali/heur_1_data_final/daily/dark_assets_index/dark_ratio_index_2012-12-04.zarr')\n",
    "\n",
    "# current_assets_zarr = zarr.load(f'/local/scratch/exported/blockchain_parsed/bitcoin_darknet/gs_group/grayscale_op_ali/heur_1_data_final_daily_weekly_new/daily/dark_ratio/dark_ratio_values_2013-05-04.zarr') #load gives an object array containing this dictionary:\n",
    "# current_assets_index_zarr = zarr.load(f'/local/scratch/exported/blockchain_parsed/bitcoin_darknet/gs_group/grayscale_op_ali/heur_1_data_final_daily_weekly_new/daily/dark_ratio_index/dark_ratio_index_2011-04-04.zarr')\n",
    "\n",
    "current_assets_zarr = dict(zip(current_assets_index_zarr, current_assets_zarr))\n",
    "# current_assets_zarr_old = dict(zip(current_assets_index_zarr_old, current_assets_zarr_old))\n",
    "\n",
    "# if current_assets_zarr_old == current_assets_zarr:\n",
    "#     print(\"true\")\n",
    "\n",
    "print(len(current_assets_zarr))\n",
    "# print(len(current_assets_zarr_old))\n",
    "# for k, v in current_assets_zarr.items():\n",
    "#     for kk, vv in current_assets_zarr_old:\n",
    "#for key in current_assets_zarr.keys() & current_assets_zarr_old.keys():\n",
    "undesired_values = 0\n",
    "normal_values = 0\n",
    "for key in current_assets_zarr.keys():\n",
    "\n",
    "        if current_assets_zarr[key] < 0 or  math.isnan(current_assets_zarr[key]) or math.isinf(current_assets_zarr[key]):\n",
    "            undesired_values += 1\n",
    "            # print(\"error\")\n",
    "            # break\n",
    "        \n",
    "        if current_assets_zarr[key] >= 0:\n",
    "            normal_values += 1\n",
    "\n",
    "print(normal_values)\n",
    "print(undesired_values)\n",
    "print(undesired_values/len(current_assets_zarr))\n",
    "# i = 0\n",
    "# count = 0\n",
    "# total = 0\n",
    "# for k, v in current_assets_zarr.items():\n",
    "    \n",
    "#     count = count + 1\n",
    "#     total = total + v\n",
    "#     # if i == 9:\n",
    "#     #     print('\\n')\n",
    "#     #     i = 0\n",
    "#     # i+=1\n",
    "# print(count)\n",
    "# print(total)\n",
    "#311280386000000.0 new on 2010-05-04\n",
    "#311280386000000.0 heur_1_data_final on 2010-05-04\n",
    "#316704954000000.0 old on 2010-05-04\n",
    "#695143585860158.0 new on 2011-05-04\n",
    "#695143585860158.0 heur_1_data_final on 2011-05-04\n",
    "#854471174476544.0 old on 2011-05-04\n",
    "#xxx new on 2012-05-04\n",
    "#1019590075699663.4 heur_1_data_final on 2012-05-04\n",
    "#1843247658153783.8 old on 2012-05-04\n",
    "\n",
    "# Notes: my code always saves dark ratio, his code saves only when nodes have made transactions"
   ]
  },
  {
   "cell_type": "markdown",
   "id": "284a54fc-3c4c-433d-ad7f-057121534b45",
   "metadata": {
    "tags": []
   },
   "source": [
    "# Importing saved results of dark_assets daily :"
   ]
  },
  {
   "cell_type": "code",
   "execution_count": 3,
   "id": "0ddf0326-92d7-43d9-b35a-863220f12366",
   "metadata": {},
   "outputs": [
    {
     "name": "stdout",
     "output_type": "stream",
     "text": [
      "1978491\n",
      "0\n",
      "1777\n",
      "0\n",
      "0.0\n",
      "0.0008981592536938505\n",
      "0.0\n"
     ]
    }
   ],
   "source": [
    "dark_assets_zarr = zarr.load(f'/local/scratch/exported/blockchain_parsed/bitcoin_darknet/gs_group/grayscale_op_ali/heur_1_data_final_daily_weekly_new_v3/daily/dark_assets/dark_assets_values_2012-02-04.zarr') #load gives an object array containing this dictionary:\n",
    "dark_assets_index_zarr = zarr.load(f'/local/scratch/exported/blockchain_parsed/bitcoin_darknet/gs_group/grayscale_op_ali/heur_1_data_final_daily_weekly_new_v3/daily/dark_assets_index/dark_assets_index_2012-02-04.zarr')\n",
    "\n",
    "dark_assets_zarr = dict(zip(dark_assets_index_zarr, dark_assets_zarr))\n",
    "\n",
    "print(len(dark_assets_zarr))\n",
    "undesired_values = 0\n",
    "normal_values = 0\n",
    "zero_values = 0\n",
    "for key in dark_assets_zarr.keys():\n",
    "\n",
    "        if dark_assets_zarr[key] < 0 or  math.isnan(dark_assets_zarr[key]) or math.isinf(dark_assets_zarr[key]):\n",
    "            undesired_values += 1\n",
    "            # print(\"error\")\n",
    "            # break\n",
    "        \n",
    "        if dark_assets_zarr[key] > 0:\n",
    "            normal_values += 1\n",
    "\n",
    "        if dark_assets_zarr[key] > 0:\n",
    "            zero_values += 1\n",
    "\n",
    "print(normal_values)\n",
    "print(undesired_values)\n",
    "print(zero_values)\n",
    "print(normal_values/len(dark_assets_zarr))\n",
    "print(undesired_values/len(dark_assets_zarr))\n",
    "print(zero_values/len(dark_assets_zarr))"
   ]
  },
  {
   "cell_type": "markdown",
   "id": "284a54fc-3c4c-433d-ad7f-057121534b45",
   "metadata": {
    "tags": []
   },
   "source": [
    "# Importing saved results per block:\n"
   ]
  },
  {
   "cell_type": "code",
   "execution_count": null,
   "id": "0ddf0326-92d7-43d9-b35a-863220f12366",
   "metadata": {},
   "outputs": [],
   "source": [
    "for i in range(49995,49996):\n",
    "    current_assets_zarr = zarr.load(f'/local/scratch/exported/blockchain_parsed/bitcoin_darknet/gs_group/grayscale_op_ali/heur_1_data_zarr/current_assets/current_assets_values_block_{str(i).zfill(6)}.zarr') #load gives an object array containing this dictionary:\n",
    "    current_assets_index_zarr = zarr.load(f'/local/scratch/exported/blockchain_parsed/bitcoin_darknet/gs_group/grayscale_op_ali/heur_1_data_zarr/current_assets_index/current_assets_index_block_{str(i).zfill(6)}.zarr')\n",
    "    print(f'current_assets before')\n",
    "    print(len(current_assets_zarr))\n",
    "    i = 0\n",
    "    for v, k in zip(current_assets_zarr, current_assets_index_zarr):\n",
    "        print(f'{k}:{format_e(Decimal(v))}, ', end='')\n",
    "        # if i == 9:\n",
    "        #     print('\\n')\n",
    "        #     i = 0\n",
    "        # i+=1"
   ]
  },
  {
   "cell_type": "markdown",
   "id": "1ab704e6-167e-4f74-94cd-b62c0cfaa9cf",
   "metadata": {},
   "source": [
    "# Gray Scale Model"
   ]
  },
  {
   "cell_type": "markdown",
   "id": "01ea2827-8866-4d80-a5b4-8f9ae6b27d9c",
   "metadata": {},
   "source": [
    "### Important Variables:\n",
    "\n",
    "In this task we will be implementing the SIR model with the following system parameters:\n",
    "\n",
    "*   $a_{i}(b)$: total amount of assets hold by user i by the end of block b.\n",
    "*   $d_{i}(b)$: total amount of black assets hold by node i by the end of block b.\n",
    "*   $x_{i}(b)$: = $\\frac{d_{i}(b)}{a_{i}(b)} $ black assets fraction by the end of block b.\n",
    "*   $c_{i}(b)$: amount of clean asset owned by node i by the end of block b\n",
    "*   $m_{i}(b)$: the amount mined by user i by the end of block b\n",
    "*   $W(b)$: = {$w_{ij}$}$_{i,j=1,...,N}$ is the adjacency matrix of the transaction network at block b. wij is equal to the amount of bitcoin moved from user i to user j at block b.\n",
    "*   $N = Nusers = |Nusers|$ total number of users in the network.\n",
    "\n",
    "Below is a summary of the dynamics of the SIR model:"
   ]
  },
  {
   "cell_type": "code",
   "execution_count": 3,
   "id": "42e24704",
   "metadata": {},
   "outputs": [
    {
     "name": "stdout",
     "output_type": "stream",
     "text": [
      "-inf\n",
      "-0.0\n"
     ]
    }
   ],
   "source": [
    "# print(float('nan')/10000000000)\n",
    "# 2.2250738585072014e-308 - 1e-100\n",
    "print(float('-inf')/10000000000)\n",
    "print(10000000000/float('-inf'))"
   ]
  }
 ],
 "metadata": {
  "kernelspec": {
   "display_name": "p38",
   "language": "python",
   "name": "p38"
  },
  "language_info": {
   "codemirror_mode": {
    "name": "ipython",
    "version": 3
   },
   "file_extension": ".py",
   "mimetype": "text/x-python",
   "name": "python",
   "nbconvert_exporter": "python",
   "pygments_lexer": "ipython3",
   "version": "3.8.13"
  }
 },
 "nbformat": 4,
 "nbformat_minor": 5
}
